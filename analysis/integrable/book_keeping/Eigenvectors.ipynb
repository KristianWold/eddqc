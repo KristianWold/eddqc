{
 "cells": [
  {
   "attachments": {},
   "cell_type": "markdown",
   "metadata": {},
   "source": [
    "# Fitting"
   ]
  },
  {
   "cell_type": "code",
   "execution_count": 1,
   "metadata": {},
   "outputs": [],
   "source": [
    "import sys\n",
    "sys.path.insert(0, '../../../../src_tf/')\n",
    "\n",
    "import numpy as np\n",
    "import qiskit as qk\n",
    "import matplotlib.pyplot as plt\n",
    "import multiprocessing as mp\n",
    "import random\n",
    "import pickle as pkl\n",
    "import tensorflow as tf\n",
    "\n",
    "from qiskit.quantum_info import DensityMatrix, random_unitary\n",
    "from qiskit.quantum_info import Operator\n",
    "from scipy.linalg import sqrtm\n",
    "from tqdm.notebook import tqdm\n",
    "from math import ceil\n",
    "\n",
    "from kraus_channels import KrausMap\n",
    "from loss_functions import ProbabilityMSE, ProbabilityRValue, channel_fidelity_loss\n",
    "from optimization import ModelSPAM, ModelQuantumMap, Logger, model_saver\n",
    "from quantum_channel import DilutedChannel, ChoiMapStatic, channel_fidelity\n",
    "from quantum_tools import apply_unitary, measurement, resample, state_fidelity, reshuffle\n",
    "from experimental import counts_to_probs, generate_pauliInput_circuits, generate_pauli_circuits, marginalize_counts\n",
    "from spam import SPAM, InitialState, POVMwQR as POVM, IdealPOVM, IdealInit, povm_fidelity, CorruptionMatrix, IdealSPAM\n",
    "from synthetic_data import generate_spam_data, generate_map_data\n",
    "from utils import saver, loader, train_val_split\n",
    "from quantum_circuits import pqc_basic\n",
    "from spectrum import channel_spectrum, complex_spacing_ratio, Spectrum, coat_spectrum, spectrum_to_angular, spectrum_to_radial\n",
    "from qiskit.circuit.library import iSwapGate\n",
    "\n",
    "\n",
    "#np.set_printoptions(threshold=sys.maxsize)\n",
    "np.set_printoptions(precision=4)\n",
    "\n",
    "import os\n",
    "os.environ[\"CUDA_VISIBLE_DEVICES\"] = \"-1\"\n",
    "tf.compat.v1.logging.set_verbosity(tf.compat.v1.logging.ERROR)"
   ]
  },
  {
   "cell_type": "code",
   "execution_count": 2,
   "metadata": {},
   "outputs": [],
   "source": [
    "def model_to_csr(model_list):\n",
    "    spectrum_list = []\n",
    "    csr_integrable_list = []\n",
    "    for model in model_list:\n",
    "        channel = model.channel\n",
    "        spectrum = channel_spectrum(channel)\n",
    "\n",
    "        csr = complex_spacing_ratio(spectrum)\n",
    "\n",
    "        spectrum_list.append(spectrum)\n",
    "        csr_integrable_list.append(csr)\n",
    "\n",
    "    return csr_integrable_list"
   ]
  },
  {
   "cell_type": "markdown",
   "metadata": {},
   "source": [
    "## Retrieve CSR\n",
    "\n",
    "### L = 5"
   ]
  },
  {
   "cell_type": "code",
   "execution_count": 3,
   "metadata": {},
   "outputs": [],
   "source": [
    "model_list = pkl.load(open(f'models/integrable_model_4_L=5.model', 'rb'))\n",
    "\n",
    "superoperator_list = [model.channel.superoperator for model in model_list]\n",
    "\n",
    "for i, superoperator in enumerate(superoperator_list):\n",
    "    np.savetxt(f'data/superoperator_L=5/superoperator{i}', superoperator, fmt='%f')"
   ]
  },
  {
   "cell_type": "code",
   "execution_count": 15,
   "metadata": {},
   "outputs": [],
   "source": [
    "model_list = pkl.load(open(f'models/integrable_model_4_L=10.model', 'rb'))\n",
    "\n",
    "superoperator_list = [model.channel.superoperator for model in model_list]\n",
    "\n",
    "for i, superoperator in enumerate(superoperator_list):\n",
    "    np.savetxt(f'data/superoperator_L=10/superoperator{i}', superoperator, fmt='%f')"
   ]
  },
  {
   "cell_type": "code",
   "execution_count": 4,
   "metadata": {},
   "outputs": [],
   "source": [
    "model_list = pkl.load(open(f'models/integrable_model_4_L=5_rerun.model', 'rb'))\n",
    "\n",
    "superoperator_list = [model.channel.superoperator for model in model_list]\n",
    "\n",
    "for i, superoperator in enumerate(superoperator_list):\n",
    "    np.savetxt(f'data/superoperator_rerun', superoperator, fmt='%f')"
   ]
  },
  {
   "cell_type": "code",
   "execution_count": 4,
   "metadata": {},
   "outputs": [],
   "source": [
    "model1 = pkl.load(open(f'models/integrable_model_4_L=5.model', 'rb'))[1]\n",
    "model2 = pkl.load(open(f'models/integrable_model_4_L=5_rerun.model', 'rb'))[0]\n"
   ]
  },
  {
   "cell_type": "code",
   "execution_count": 5,
   "metadata": {},
   "outputs": [
    {
     "data": {
      "text/plain": [
       "<tf.Tensor: shape=(), dtype=float64, numpy=0.9651508388726432>"
      ]
     },
     "execution_count": 5,
     "metadata": {},
     "output_type": "execute_result"
    }
   ],
   "source": [
    "channel_fidelity(model1.channel, model2.channel)"
   ]
  },
  {
   "cell_type": "code",
   "execution_count": 6,
   "metadata": {},
   "outputs": [],
   "source": [
    "map_ideal_list = pkl.load(open(\"ideal_maps.pkl\", \"rb\"))"
   ]
  },
  {
   "cell_type": "code",
   "execution_count": 16,
   "metadata": {},
   "outputs": [
    {
     "data": {
      "text/plain": [
       "0.5190658817718946"
      ]
     },
     "execution_count": 16,
     "metadata": {},
     "output_type": "execute_result"
    }
   ],
   "source": [
    "np.sqrt(channel_fidelity(model1.channel, map_ideal_list[1]))"
   ]
  },
  {
   "cell_type": "code",
   "execution_count": 17,
   "metadata": {},
   "outputs": [
    {
     "data": {
      "text/plain": [
       "0.5110929294578674"
      ]
     },
     "execution_count": 17,
     "metadata": {},
     "output_type": "execute_result"
    }
   ],
   "source": [
    "np.sqrt(channel_fidelity(model2.channel, map_ideal_list[1]))"
   ]
  }
 ],
 "metadata": {
  "kernelspec": {
   "display_name": "env_qiskit",
   "language": "python",
   "name": "python3"
  },
  "language_info": {
   "codemirror_mode": {
    "name": "ipython",
    "version": 3
   },
   "file_extension": ".py",
   "mimetype": "text/x-python",
   "name": "python",
   "nbconvert_exporter": "python",
   "pygments_lexer": "ipython3",
   "version": "3.10.4"
  }
 },
 "nbformat": 4,
 "nbformat_minor": 4
}
