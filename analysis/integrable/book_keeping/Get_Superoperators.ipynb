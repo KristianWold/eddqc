{
 "cells": [
  {
   "attachments": {},
   "cell_type": "markdown",
   "metadata": {},
   "source": [
    "# Fitting"
   ]
  },
  {
   "cell_type": "code",
   "execution_count": 15,
   "metadata": {},
   "outputs": [],
   "source": [
    "import sys\n",
    "sys.path.insert(0, '../../../../src_tf/')\n",
    "\n",
    "import numpy as np\n",
    "import qiskit as qk\n",
    "import matplotlib.pyplot as plt\n",
    "import multiprocessing as mp\n",
    "import random\n",
    "import pickle as pkl\n",
    "import tensorflow as tf\n",
    "\n",
    "from qiskit.quantum_info import DensityMatrix, random_unitary\n",
    "from qiskit.quantum_info import Operator\n",
    "from scipy.linalg import sqrtm\n",
    "from tqdm.notebook import tqdm\n",
    "from math import ceil\n",
    "\n",
    "from kraus_channels import KrausMap\n",
    "from loss_functions import ProbabilityMSE, ProbabilityRValue, channel_fidelity_loss\n",
    "from optimization import ModelSPAM, ModelQuantumMap, Logger, model_saver\n",
    "from quantum_channel import DilutedChannel, ChoiMapStatic\n",
    "from quantum_tools import apply_unitary, measurement, resample, state_fidelity\n",
    "from experimental import counts_to_probs, generate_pauliInput_circuits, generate_pauli_circuits, marginalize_counts\n",
    "from spam import SPAM, InitialState, POVMwQR as POVM, IdealPOVM, IdealInit, povm_fidelity, CorruptionMatrix, IdealSPAM\n",
    "from synthetic_data import generate_spam_data, generate_map_data\n",
    "from utils import saver, loader, train_val_split\n",
    "from quantum_circuits import pqc_basic\n",
    "from spectrum import channel_spectrum, complex_spacing_ratio, Spectrum, coat_spectrum, spectrum_to_angular, spectrum_to_radial\n",
    "from quantum_circuits import integrable_circuit\n",
    "\n",
    "\n",
    "#np.set_printoptions(threshold=sys.maxsize)\n",
    "#np.set_printoptions(precision=4)\n",
    "\n",
    "import os\n",
    "os.environ[\"CUDA_VISIBLE_DEVICES\"] = \"-1\"\n",
    "tf.compat.v1.logging.set_verbosity(tf.compat.v1.logging.ERROR)"
   ]
  },
  {
   "cell_type": "code",
   "execution_count": 16,
   "metadata": {},
   "outputs": [],
   "source": [
    "model_list = loader('models/integrable_model_4_L=5.model')\n",
    "\n",
    "for i, model in enumerate(model_list):\n",
    "    SO = model.channel.superoperator\n",
    "    np.savetxt(f'models/superoperators/superoperator_L=5/superoperator{i}', SO, fmt='%f')"
   ]
  },
  {
   "cell_type": "code",
   "execution_count": 17,
   "metadata": {},
   "outputs": [],
   "source": [
    "model_list = loader('models/integrable_model_4_L=10.model')\n",
    "\n",
    "for i, model in enumerate(model_list):\n",
    "    SO = model.channel.superoperator\n",
    "    np.savetxt(f'models/superoperators/superoperator_L=10/superoperator{i}', SO, fmt='%f')"
   ]
  },
  {
   "cell_type": "code",
   "execution_count": 18,
   "metadata": {},
   "outputs": [],
   "source": [
    "model_list = loader('models/integrable_model_4_L=20_reorder.model')\n",
    "\n",
    "for i, model in enumerate(model_list):\n",
    "    SO = model.channel.superoperator\n",
    "    np.savetxt(f'models/superoperators/superoperator_L=20/superoperator{i}', SO, fmt='%f')"
   ]
  },
  {
   "cell_type": "code",
   "execution_count": 19,
   "metadata": {},
   "outputs": [],
   "source": [
    "model_list = loader('models/integrable_model_4_L=30_reorder.model')\n",
    "\n",
    "for i, model in enumerate(model_list):\n",
    "    SO = model.channel.superoperator\n",
    "    np.savetxt(f'models/superoperators/superoperator_L=30/superoperator{i}', SO, fmt='%f')"
   ]
  },
  {
   "cell_type": "code",
   "execution_count": 20,
   "metadata": {},
   "outputs": [],
   "source": [
    "model_list = loader('models/integrable_model_4_L=40_reorder.model')\n",
    "\n",
    "for i, model in enumerate(model_list):\n",
    "    SO = model.channel.superoperator\n",
    "    np.savetxt(f'models/superoperators/superoperator_L=40/superoperator{i}', SO, fmt='%f')"
   ]
  },
  {
   "cell_type": "code",
   "execution_count": 21,
   "metadata": {},
   "outputs": [],
   "source": [
    "model_list = loader('models/integrable_model_4_L=50_reorder.model')\n",
    "\n",
    "for i, model in enumerate(model_list):\n",
    "    SO = model.channel.superoperator\n",
    "    np.savetxt(f'models/superoperators/superoperator_L=50/superoperator{i}', SO, fmt='%f')"
   ]
  }
 ],
 "metadata": {
  "kernelspec": {
   "display_name": "env_phd",
   "language": "python",
   "name": "python3"
  },
  "language_info": {
   "codemirror_mode": {
    "name": "ipython",
    "version": 3
   },
   "file_extension": ".py",
   "mimetype": "text/x-python",
   "name": "python",
   "nbconvert_exporter": "python",
   "pygments_lexer": "ipython3",
   "version": "3.10.13"
  }
 },
 "nbformat": 4,
 "nbformat_minor": 4
}
