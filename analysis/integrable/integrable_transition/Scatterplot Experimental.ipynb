{
 "cells": [
  {
   "attachments": {},
   "cell_type": "markdown",
   "metadata": {},
   "source": [
    "# Fitting"
   ]
  },
  {
   "cell_type": "code",
   "execution_count": 1,
   "metadata": {},
   "outputs": [
    {
     "name": "stdout",
     "output_type": "stream",
     "text": [
      "WARNING:tensorflow:From C:\\Users\\krist\\AppData\\Local\\Temp\\ipykernel_23260\\1736722281.py:38: The name tf.logging.set_verbosity is deprecated. Please use tf.compat.v1.logging.set_verbosity instead.\n",
      "\n"
     ]
    }
   ],
   "source": [
    "import sys\n",
    "sys.path.insert(0, '../../../../../src_tf/')\n",
    "\n",
    "import numpy as np\n",
    "import qiskit as qk\n",
    "import matplotlib.pyplot as plt\n",
    "import multiprocessing as mp\n",
    "import random\n",
    "import pickle as pkl\n",
    "import tensorflow as tf\n",
    "\n",
    "from qiskit.quantum_info import DensityMatrix, random_unitary\n",
    "from qiskit.quantum_info import Operator\n",
    "from scipy.linalg import sqrtm\n",
    "from tqdm.notebook import tqdm\n",
    "from math import ceil\n",
    "\n",
    "from kraus_channels import KrausMap\n",
    "from loss_functions import ProbabilityMSE, ProbabilityRValue, channel_fidelity_loss\n",
    "from optimization import ModelSPAM, ModelQuantumMap, Logger, model_saver\n",
    "from quantum_channel import DilutedChannel, ChoiMapStatic\n",
    "from quantum_tools import apply_unitary, measurement, resample, state_fidelity\n",
    "from experimental import counts_to_probs, generate_pauliInput_circuits, generate_pauli_circuits, marginalize_counts\n",
    "from spam import SPAM, InitialState, POVMwQR as POVM, IdealPOVM, IdealInit, povm_fidelity, CorruptionMatrix, IdealSPAM\n",
    "from synthetic_data import generate_spam_data, generate_map_data\n",
    "from utils import saver, loader, train_val_split\n",
    "from quantum_circuits import pqc_basic\n",
    "from spectrum import channel_spectrum, complex_spacing_ratio, Spectrum, coat_spectrum, spectrum_to_angular, spectrum_to_radial\n",
    "from qiskit.circuit.library import iSwapGate\n",
    "from analysis import model_to_csr, scatterplot_stats\n",
    "\n",
    "\n",
    "#np.set_printoptions(threshold=sys.maxsize)\n",
    "np.set_printoptions(precision=4)\n",
    "\n",
    "import os\n",
    "os.environ[\"CUDA_VISIBLE_DEVICES\"] = \"-1\"\n",
    "tf.compat.v1.logging.set_verbosity(tf.compat.v1.logging.ERROR)"
   ]
  },
  {
   "cell_type": "markdown",
   "metadata": {},
   "source": [
    "## Retrieve CSR\n",
    "\n",
    "### L = 5"
   ]
  },
  {
   "cell_type": "code",
   "execution_count": 2,
   "metadata": {},
   "outputs": [],
   "source": [
    "model_list = pkl.load(open(f'../models/integrable_model_4_L=5.model', 'rb'))\n",
    "\n",
    "csr_integrable_list = model_to_csr(model_list)\n",
    "radial_list = spectrum_to_radial(csr_integrable_list)\n",
    "angular_list = spectrum_to_angular(csr_integrable_list)\n",
    "\n",
    "r_mean_L5, a_mean_L5 = scatterplot_stats(radial_list, angular_list)"
   ]
  },
  {
   "cell_type": "code",
   "execution_count": 3,
   "metadata": {},
   "outputs": [],
   "source": [
    "model_list = pkl.load(open(f'../models/integrable_model_4_L=10.model', 'rb'))\n",
    "\n",
    "csr_integrable_list = model_to_csr(model_list)\n",
    "radial_list = spectrum_to_radial(csr_integrable_list)\n",
    "angular_list = spectrum_to_angular(csr_integrable_list)\n",
    "\n",
    "r_mean_L10, a_mean_L10 = scatterplot_stats(radial_list, angular_list)"
   ]
  },
  {
   "cell_type": "code",
   "execution_count": 4,
   "metadata": {},
   "outputs": [],
   "source": [
    "model_list = pkl.load(open(f'../models/integrable_model_4_L=20_reorder.model', 'rb'))\n",
    "\n",
    "csr_integrable_list = model_to_csr(model_list)\n",
    "radial_list = spectrum_to_radial(csr_integrable_list)\n",
    "angular_list = spectrum_to_angular(csr_integrable_list)\n",
    "\n",
    "r_mean_L20, a_mean_L20 = scatterplot_stats(radial_list, angular_list)"
   ]
  },
  {
   "cell_type": "code",
   "execution_count": 5,
   "metadata": {},
   "outputs": [],
   "source": [
    "model_list = pkl.load(open(f'../models/integrable_model_4_L=30_reorder.model', 'rb'))\n",
    "\n",
    "csr_integrable_list = model_to_csr(model_list)\n",
    "radial_list = spectrum_to_radial(csr_integrable_list)\n",
    "angular_list = spectrum_to_angular(csr_integrable_list)\n",
    "\n",
    "r_mean_L30, a_mean_L30 = scatterplot_stats(radial_list, angular_list)"
   ]
  },
  {
   "cell_type": "code",
   "execution_count": 6,
   "metadata": {},
   "outputs": [],
   "source": [
    "model_list = pkl.load(open(f'../models/integrable_model_4_L=40_reorder.model', 'rb'))\n",
    "\n",
    "csr_integrable_list = model_to_csr(model_list)\n",
    "radial_list = spectrum_to_radial(csr_integrable_list)\n",
    "angular_list = spectrum_to_angular(csr_integrable_list)\n",
    "\n",
    "r_mean_L40, a_mean_L40 = scatterplot_stats(radial_list, angular_list)"
   ]
  },
  {
   "cell_type": "code",
   "execution_count": 7,
   "metadata": {},
   "outputs": [],
   "source": [
    "model_list = pkl.load(open(f'../models/integrable_model_4_L=50_reorder.model', 'rb'))\n",
    "\n",
    "csr_integrable_list = model_to_csr(model_list)\n",
    "radial_list = spectrum_to_radial(csr_integrable_list)\n",
    "angular_list = spectrum_to_angular(csr_integrable_list)\n",
    "\n",
    "r_mean_L50, a_mean_L50 = scatterplot_stats(radial_list, angular_list)"
   ]
  },
  {
   "cell_type": "markdown",
   "metadata": {},
   "source": [
    "## Book Keeping"
   ]
  },
  {
   "cell_type": "code",
   "execution_count": 10,
   "metadata": {},
   "outputs": [],
   "source": [
    "r_AI, a_AI = 0.730666908336575, 0.19849352312582436\n",
    "r_FF, a_FF = 0.6177348961486886, -0.09610440656318214\n",
    "\n",
    "r_mean = [r_mean_L5, r_mean_L10, r_mean_L20, r_mean_L30, r_mean_L40, r_mean_L50]\n",
    "r_theory = [r_AI, r_FF]\n",
    "\n",
    "a_mean = [a_mean_L5, a_mean_L10, a_mean_L20, a_mean_L30, a_mean_L40, a_mean_L50]\n",
    "a_theory = [a_AI, a_FF]"
   ]
  },
  {
   "cell_type": "code",
   "execution_count": 11,
   "metadata": {},
   "outputs": [],
   "source": [
    "marginals_mean_experimental = np.array([r_mean, a_mean]).T\n",
    "np.savetxt(\"bookkeeping/figure3/scatterplot_mean.txt\", marginals_mean_experimental)\n",
    "\n",
    "marginals_theory = np.array([r_theory, a_theory]).T\n",
    "np.savetxt(\"bookkeeping/figure3/scatterplot_theory.txt\", marginals_theory)"
   ]
  }
 ],
 "metadata": {
  "kernelspec": {
   "display_name": "env_phd",
   "language": "python",
   "name": "python3"
  },
  "language_info": {
   "codemirror_mode": {
    "name": "ipython",
    "version": 3
   },
   "file_extension": ".py",
   "mimetype": "text/x-python",
   "name": "python",
   "nbconvert_exporter": "python",
   "pygments_lexer": "ipython3",
   "version": "3.10.13"
  }
 },
 "nbformat": 4,
 "nbformat_minor": 4
}
