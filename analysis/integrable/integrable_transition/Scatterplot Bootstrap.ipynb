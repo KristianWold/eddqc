{
 "cells": [
  {
   "attachments": {},
   "cell_type": "markdown",
   "metadata": {},
   "source": [
    "# Bootstrap Scatterplot"
   ]
  },
  {
   "cell_type": "code",
   "execution_count": 1,
   "metadata": {},
   "outputs": [
    {
     "name": "stdout",
     "output_type": "stream",
     "text": [
      "WARNING:tensorflow:From C:\\Users\\krist\\AppData\\Local\\Temp\\ipykernel_24852\\3302220741.py:38: The name tf.logging.set_verbosity is deprecated. Please use tf.compat.v1.logging.set_verbosity instead.\n",
      "\n"
     ]
    }
   ],
   "source": [
    "import sys\n",
    "sys.path.insert(0, '../../../../../src_tf/')\n",
    "\n",
    "import numpy as np\n",
    "import qiskit as qk\n",
    "import matplotlib.pyplot as plt\n",
    "import multiprocessing as mp\n",
    "import random\n",
    "import pickle as pkl\n",
    "import tensorflow as tf\n",
    "\n",
    "from qiskit.quantum_info import DensityMatrix, random_unitary\n",
    "from qiskit.quantum_info import Operator\n",
    "from scipy.linalg import sqrtm\n",
    "from tqdm.notebook import tqdm\n",
    "from math import ceil\n",
    "\n",
    "from kraus_channels import KrausMap\n",
    "from loss_functions import ProbabilityMSE, ProbabilityRValue, channel_fidelity_loss\n",
    "from optimization import ModelSPAM, ModelQuantumMap, Logger, model_saver\n",
    "from quantum_channel import DilutedChannel, ChoiMapStatic\n",
    "from quantum_tools import apply_unitary, measurement, resample, state_fidelity\n",
    "from experimental import counts_to_probs, generate_pauliInput_circuits, generate_pauli_circuits, marginalize_counts\n",
    "from spam import SPAM, InitialState, POVMwQR as POVM, IdealPOVM, IdealInit, povm_fidelity, CorruptionMatrix, IdealSPAM\n",
    "from synthetic_data import generate_spam_data, generate_map_data\n",
    "from utils import saver, loader, train_val_split\n",
    "from quantum_circuits import pqc_basic\n",
    "from spectrum import channel_spectrum, complex_spacing_ratio, Spectrum, coat_spectrum, spectrum_to_angular, spectrum_to_radial\n",
    "from qiskit.circuit.library import iSwapGate\n",
    "from analysis import scatterplot_bootstrap, model_to_csr\n",
    "\n",
    "\n",
    "#np.set_printoptions(threshold=sys.maxsize)\n",
    "np.set_printoptions(precision=4)\n",
    "\n",
    "import os\n",
    "os.environ[\"CUDA_VISIBLE_DEVICES\"] = \"-1\"\n",
    "tf.compat.v1.logging.set_verbosity(tf.compat.v1.logging.ERROR)"
   ]
  },
  {
   "cell_type": "markdown",
   "metadata": {},
   "source": [
    "## Retrieve CSR\n",
    "\n",
    "### L = 5"
   ]
  },
  {
   "cell_type": "code",
   "execution_count": 2,
   "metadata": {},
   "outputs": [],
   "source": [
    "seed = 42\n",
    "\n",
    "r_std_list = []\n",
    "a_std_list = []"
   ]
  },
  {
   "cell_type": "code",
   "execution_count": 3,
   "metadata": {},
   "outputs": [
    {
     "data": {
      "application/vnd.jupyter.widget-view+json": {
       "model_id": "688e37745a174e9881045b901e0b9127",
       "version_major": 2,
       "version_minor": 0
      },
      "text/plain": [
       "  0%|          | 0/10 [00:00<?, ?it/s]"
      ]
     },
     "metadata": {},
     "output_type": "display_data"
    }
   ],
   "source": [
    "r_std_list_temp = []\n",
    "a_std_list_temp = []\n",
    "\n",
    "for i in tqdm(range(10)):\n",
    "    models = pkl.load(open(f'../fitting_maps/models/integrable_model_L=5_bootstrap_seed{seed + i}.model', 'rb'))\n",
    "    csr = model_to_csr(models)\n",
    "    _, r_std, _, a_std = scatterplot_bootstrap(csr)\n",
    "    r_std_list_temp.append(r_std)\n",
    "    a_std_list_temp.append(a_std)\n",
    "\n",
    "\n",
    "r_std_list_temp = np.array(r_std_list_temp)\n",
    "a_std_list_temp = np.array(a_std_list_temp)\n",
    "\n",
    "r_std = np.sqrt(np.mean(r_std_list_temp**2))/np.sqrt(10)\n",
    "r_std_list.append(r_std)\n",
    "\n",
    "a_std = np.sqrt(np.mean(a_std_list_temp**2))/np.sqrt(10)\n",
    "a_std_list.append(a_std)"
   ]
  },
  {
   "cell_type": "code",
   "execution_count": 4,
   "metadata": {},
   "outputs": [
    {
     "data": {
      "application/vnd.jupyter.widget-view+json": {
       "model_id": "5d732124d4344fb9a4ca8ba9c456e9a9",
       "version_major": 2,
       "version_minor": 0
      },
      "text/plain": [
       "  0%|          | 0/10 [00:00<?, ?it/s]"
      ]
     },
     "metadata": {},
     "output_type": "display_data"
    }
   ],
   "source": [
    "r_std_list_temp = []\n",
    "a_std_list_temp = []\n",
    "\n",
    "for i in tqdm(range(10)):\n",
    "    models = pkl.load(open(f'../fitting_maps/models/integrable_model_L=10_bootstrap_seed{seed + i}.model', 'rb'))\n",
    "    csr = model_to_csr(models)\n",
    "    _, r_std, _, a_std = scatterplot_bootstrap(csr)\n",
    "    r_std_list_temp.append(r_std)\n",
    "    a_std_list_temp.append(a_std)\n",
    "\n",
    "\n",
    "r_std_list_temp = np.array(r_std_list_temp)\n",
    "a_std_list_temp = np.array(a_std_list_temp)\n",
    "\n",
    "r_std = np.sqrt(np.mean(r_std_list_temp**2))/np.sqrt(10)\n",
    "r_std_list.append(r_std)\n",
    "\n",
    "a_std = np.sqrt(np.mean(a_std_list_temp**2))/np.sqrt(10)\n",
    "a_std_list.append(a_std)"
   ]
  },
  {
   "cell_type": "code",
   "execution_count": 5,
   "metadata": {},
   "outputs": [
    {
     "data": {
      "application/vnd.jupyter.widget-view+json": {
       "model_id": "be4a23feee9a448bbeceb656ca67c4fd",
       "version_major": 2,
       "version_minor": 0
      },
      "text/plain": [
       "  0%|          | 0/10 [00:00<?, ?it/s]"
      ]
     },
     "metadata": {},
     "output_type": "display_data"
    }
   ],
   "source": [
    "r_std_list_temp = []\n",
    "a_std_list_temp = []\n",
    "\n",
    "for i in tqdm(range(10)):\n",
    "    models = pkl.load(open(f'../fitting_maps/models/integrable_model_L=20_bootstrap_seed{seed + i}.model', 'rb'))\n",
    "    csr = model_to_csr(models)\n",
    "    _, r_std, _, a_std = scatterplot_bootstrap(csr)\n",
    "    r_std_list_temp.append(r_std)\n",
    "    a_std_list_temp.append(a_std)\n",
    "\n",
    "\n",
    "r_std_list_temp = np.array(r_std_list_temp)\n",
    "a_std_list_temp = np.array(a_std_list_temp)\n",
    "\n",
    "r_std = np.sqrt(np.mean(r_std_list_temp**2))/np.sqrt(10)\n",
    "r_std_list.append(r_std)\n",
    "\n",
    "a_std = np.sqrt(np.mean(a_std_list_temp**2))/np.sqrt(10)\n",
    "a_std_list.append(a_std)"
   ]
  },
  {
   "cell_type": "code",
   "execution_count": 6,
   "metadata": {},
   "outputs": [
    {
     "data": {
      "application/vnd.jupyter.widget-view+json": {
       "model_id": "a908951ba52e43059857cf80846a7774",
       "version_major": 2,
       "version_minor": 0
      },
      "text/plain": [
       "  0%|          | 0/10 [00:00<?, ?it/s]"
      ]
     },
     "metadata": {},
     "output_type": "display_data"
    }
   ],
   "source": [
    "r_std_list_temp = []\n",
    "a_std_list_temp = []\n",
    "\n",
    "for i in tqdm(range(10)):\n",
    "    models = pkl.load(open(f'../fitting_maps/models/integrable_model_L=30_bootstrap_seed{seed + i}.model', 'rb'))\n",
    "    csr = model_to_csr(models)\n",
    "    _, r_std, _, a_std = scatterplot_bootstrap(csr)\n",
    "    r_std_list_temp.append(r_std)\n",
    "    a_std_list_temp.append(a_std)\n",
    "\n",
    "\n",
    "r_std_list_temp = np.array(r_std_list_temp)\n",
    "a_std_list_temp = np.array(a_std_list_temp)\n",
    "\n",
    "r_std = np.sqrt(np.mean(r_std_list_temp**2))/np.sqrt(10)\n",
    "r_std_list.append(r_std)\n",
    "\n",
    "a_std = np.sqrt(np.mean(a_std_list_temp**2))/np.sqrt(10)\n",
    "a_std_list.append(a_std)"
   ]
  },
  {
   "cell_type": "code",
   "execution_count": 7,
   "metadata": {},
   "outputs": [
    {
     "data": {
      "application/vnd.jupyter.widget-view+json": {
       "model_id": "093ce3cddb4d409493e9a51c03757c2c",
       "version_major": 2,
       "version_minor": 0
      },
      "text/plain": [
       "  0%|          | 0/10 [00:00<?, ?it/s]"
      ]
     },
     "metadata": {},
     "output_type": "display_data"
    }
   ],
   "source": [
    "r_std_list_temp = []\n",
    "a_std_list_temp = []\n",
    "\n",
    "for i in tqdm(range(10)):\n",
    "    models = pkl.load(open(f'../fitting_maps/models/integrable_model_L=40_bootstrap_seed{seed + i}.model', 'rb'))\n",
    "    csr = model_to_csr(models)\n",
    "    _, r_std, _, a_std = scatterplot_bootstrap(csr)\n",
    "    r_std_list_temp.append(r_std)\n",
    "    a_std_list_temp.append(a_std)\n",
    "\n",
    "\n",
    "r_std_list_temp = np.array(r_std_list_temp)\n",
    "a_std_list_temp = np.array(a_std_list_temp)\n",
    "\n",
    "r_std = np.sqrt(np.mean(r_std_list_temp**2))/np.sqrt(10)\n",
    "r_std_list.append(r_std)\n",
    "\n",
    "a_std = np.sqrt(np.mean(a_std_list_temp**2))/np.sqrt(10)\n",
    "a_std_list.append(a_std)"
   ]
  },
  {
   "cell_type": "code",
   "execution_count": 8,
   "metadata": {},
   "outputs": [
    {
     "data": {
      "application/vnd.jupyter.widget-view+json": {
       "model_id": "35b6bc0a18ac41cbb89ab886b23841c5",
       "version_major": 2,
       "version_minor": 0
      },
      "text/plain": [
       "  0%|          | 0/10 [00:00<?, ?it/s]"
      ]
     },
     "metadata": {},
     "output_type": "display_data"
    }
   ],
   "source": [
    "r_std_list_temp = []\n",
    "a_std_list_temp = []\n",
    "\n",
    "for i in tqdm(range(10)):\n",
    "    models = pkl.load(open(f'../fitting_maps/models/integrable_model_L=50_bootstrap_seed{seed + i}.model', 'rb'))\n",
    "    csr = model_to_csr(models)\n",
    "    _, r_std, _, a_std = scatterplot_bootstrap(csr)\n",
    "    r_std_list_temp.append(r_std)\n",
    "    a_std_list_temp.append(a_std)\n",
    "\n",
    "\n",
    "r_std_list_temp = np.array(r_std_list_temp)\n",
    "a_std_list_temp = np.array(a_std_list_temp)\n",
    "\n",
    "r_std = np.sqrt(np.mean(r_std_list_temp**2))/np.sqrt(10)\n",
    "r_std_list.append(r_std)\n",
    "\n",
    "a_std = np.sqrt(np.mean(a_std_list_temp**2))/np.sqrt(10)\n",
    "a_std_list.append(a_std)"
   ]
  },
  {
   "cell_type": "code",
   "execution_count": 9,
   "metadata": {},
   "outputs": [],
   "source": [
    "np.savetxt('bookkeeping/figure3/scatterplot_std.txt', np.array([r_std_list, a_std_list]).T, delimiter=' ')"
   ]
  }
 ],
 "metadata": {
  "kernelspec": {
   "display_name": "env_phd",
   "language": "python",
   "name": "python3"
  },
  "language_info": {
   "codemirror_mode": {
    "name": "ipython",
    "version": 3
   },
   "file_extension": ".py",
   "mimetype": "text/x-python",
   "name": "python",
   "nbconvert_exporter": "python",
   "pygments_lexer": "ipython3",
   "version": "3.10.13"
  }
 },
 "nbformat": 4,
 "nbformat_minor": 4
}
