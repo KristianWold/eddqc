{
 "cells": [
  {
   "attachments": {},
   "cell_type": "markdown",
   "metadata": {},
   "source": [
    "# Diluted Unitary Fitting Calibration"
   ]
  },
  {
   "cell_type": "code",
   "execution_count": 3,
   "metadata": {},
   "outputs": [],
   "source": [
    "import sys\n",
    "sys.path.insert(0, '../../../src_tf/')\n",
    "\n",
    "import numpy as np\n",
    "import qiskit as qk\n",
    "import matplotlib.pyplot as plt\n",
    "import multiprocessing as mp\n",
    "import random\n",
    "import pickle as pkl\n",
    "import tensorflow as tf\n",
    "\n",
    "from qiskit.quantum_info import DensityMatrix, random_unitary\n",
    "from qiskit.quantum_info import Operator\n",
    "from scipy.linalg import sqrtm\n",
    "from tqdm.notebook import tqdm\n",
    "from math import ceil\n",
    "\n",
    "from kraus_channels import KrausMap, DilutedKrausMap\n",
    "from loss_functions import ProbabilityMSE, ProbabilityRValue, channel_fidelity_loss, SpectrumDistance\n",
    "from optimization import ModelSPAM, ModelQuantumMap, Logger, model_saver\n",
    "from quantum_channel import DilutedChannel, ChoiMapStatic\n",
    "from quantum_tools import apply_unitary, measurement, resample, state_fidelity, generate_unitary\n",
    "from experimental import counts_to_probs, generate_pauliInput_circuits, generate_pauli_circuits\n",
    "from spam import SPAM, InitialState, POVMwQR as POVM, IdealPOVM, IdealInit, povm_fidelity, CorruptionMatrix\n",
    "from synthetic_data import generate_spam_data, generate_map_data\n",
    "from utils import saver, loader, train_val_split\n",
    "from quantum_circuits import pqc_basic\n",
    "from spectrum import channel_spectrum, mean_spacing, spectrum_distance\n",
    "\n",
    "\n",
    "#np.set_printoptions(threshold=sys.maxsize)\n",
    "np.set_printoptions(precision=4)\n",
    "\n",
    "import os\n",
    "os.environ[\"CUDA_VISIBLE_DEVICES\"] = \"-1\"\n",
    "tf.compat.v1.logging.set_verbosity(tf.compat.v1.logging.ERROR)"
   ]
  },
  {
   "cell_type": "code",
   "execution_count": 1,
   "metadata": {},
   "outputs": [],
   "source": [
    "def spectrum_distance_benchmark(d, c, rank, reps):\n",
    "    distance_list = []\n",
    "\n",
    "    for _ in tqdm(range(reps)):\n",
    "        map1 = DilutedKrausMap(U=generate_unitary(d), c=c, kraus_part=KrausMap(d, rank=rank, trainable=False))\n",
    "        spectrum1 = channel_spectrum(map1)\n",
    "\n",
    "        map2 = DilutedKrausMap(U=generate_unitary(d), c=c, kraus_part=KrausMap(d, rank=rank, trainable=False))\n",
    "        spectrum2 = channel_spectrum(map2)\n",
    "\n",
    "        sigma = mean_spacing(spectrum1)\n",
    "\n",
    "        distance = spectrum_distance(spectrum1, spectrum2, sigma)\n",
    "        distance_list.append(distance)\n",
    "    distance_mean = np.mean(distance_list)\n",
    "    distance_std = np.std(distance_list)\n",
    "        \n",
    "    return distance_mean, distance_std\n"
   ]
  },
  {
   "attachments": {},
   "cell_type": "markdown",
   "metadata": {},
   "source": [
    "## Four Qubits"
   ]
  }
 ],
 "metadata": {
  "kernelspec": {
   "display_name": "env_phd",
   "language": "python",
   "name": "python3"
  },
  "language_info": {
   "codemirror_mode": {
    "name": "ipython",
    "version": 3
   },
   "file_extension": ".py",
   "mimetype": "text/x-python",
   "name": "python",
   "nbconvert_exporter": "python",
   "pygments_lexer": "ipython3",
   "version": "3.10.13"
  }
 },
 "nbformat": 4,
 "nbformat_minor": 4
}
