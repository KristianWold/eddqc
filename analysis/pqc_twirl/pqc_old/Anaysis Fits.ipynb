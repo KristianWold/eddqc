{
 "cells": [
  {
   "attachments": {},
   "cell_type": "markdown",
   "metadata": {},
   "source": [
    "# Fitting"
   ]
  },
  {
   "cell_type": "code",
   "execution_count": 1,
   "metadata": {},
   "outputs": [
    {
     "name": "stderr",
     "output_type": "stream",
     "text": [
      "2024-12-05 14:26:50.008721: I tensorflow/core/platform/cpu_feature_guard.cc:182] This TensorFlow binary is optimized to use available CPU instructions in performance-critical operations.\n",
      "To enable the following instructions: SSE4.1 SSE4.2 AVX AVX2 AVX512F AVX512_VNNI FMA, in other operations, rebuild TensorFlow with the appropriate compiler flags.\n"
     ]
    }
   ],
   "source": [
    "import sys\n",
    "sys.path.insert(0, '../../../../src_tf/')\n",
    "\n",
    "import numpy as np\n",
    "import qiskit as qk\n",
    "import matplotlib.pyplot as plt\n",
    "import multiprocessing as mp\n",
    "import random\n",
    "import pickle as pkl\n",
    "import tensorflow as tf\n",
    "\n",
    "from qiskit.quantum_info import DensityMatrix, random_unitary\n",
    "from qiskit.quantum_info import Operator\n",
    "from scipy.linalg import sqrtm\n",
    "from tqdm.notebook import tqdm\n",
    "from math import ceil\n",
    "\n",
    "from kraus_channels import KrausMap\n",
    "from loss_functions import ProbabilityMSE, ProbabilityRValue, channel_fidelity_loss\n",
    "from optimization import ModelSPAM, ModelQuantumMap, Logger, model_saver\n",
    "from quantum_channel import DilutedChannel, ChoiMapStatic\n",
    "from quantum_tools import apply_unitary, measurement, resample, state_fidelity\n",
    "from experimental import counts_to_probs, generate_pauliInput_circuits, generate_pauli_circuits\n",
    "from spam import SPAM, InitialState, POVMwQR as POVM, IdealPOVM, IdealInit, povm_fidelity, CorruptionMatrix\n",
    "from synthetic_data import generate_spam_data, generate_map_data\n",
    "from utils import saver, loader, train_val_split\n",
    "from quantum_circuits import pqc_basic\n",
    "from spectrum import channel_spectrum\n",
    "from qiskit.circuit.library import iSwapGate\n",
    "\n",
    "\n",
    "#np.set_printoptions(threshold=sys.maxsize)\n",
    "np.set_printoptions(precision=4)\n",
    "\n",
    "import os\n",
    "os.environ[\"CUDA_VISIBLE_DEVICES\"] = \"-1\"\n",
    "tf.compat.v1.logging.set_verbosity(tf.compat.v1.logging.ERROR)"
   ]
  },
  {
   "cell_type": "code",
   "execution_count": 2,
   "metadata": {},
   "outputs": [],
   "source": [
    "def load_data(filename, L, n):\n",
    "    with open(filename, 'rb') as f:\n",
    "        data = pkl.load(f)\n",
    "\n",
    "    targets = counts_to_probs(data)\n",
    "    targets_spam = targets[:6**n]\n",
    "    targets_map = targets[6**n:]\n",
    "\n",
    "    np.random.seed(42)\n",
    "    random.seed(42)\n",
    "    tf.random.set_seed(42)\n",
    "    \n",
    "    circuit_target = pqc_basic(n, L)\n",
    "    unitary = Operator(circuit_target).data\n",
    "\n",
    "    inputs_spam, _ = generate_pauliInput_circuits(n)\n",
    "        \n",
    "    inputs_map, circuit_list_map = (\n",
    "                generate_pauli_circuits(n, None, N=5000-6**n)\n",
    "        )\n",
    "    \n",
    "    return inputs_spam, targets_spam, inputs_map, targets_map, unitary\n",
    "\n",
    "def fit_spam(inputs, \n",
    "             targets,\n",
    "             num_iter = 2000):\n",
    "    d = targets.shape[1]\n",
    "    spam_model = SPAM(init = InitialState(d),\n",
    "                    povm = CorruptionMatrix(d),\n",
    "                    )\n",
    "\n",
    "    spam_opt = ModelSPAM(spam_model, tf.keras.optimizers.Adam(learning_rate=0.01))\n",
    "        \n",
    "    spam_opt.pretrain(100, verbose=False)\n",
    "\n",
    "    spam_opt.train(inputs = inputs,\n",
    "                    targets = targets,\n",
    "                    num_iter = num_iter,\n",
    "                    verbose = False,\n",
    "                )\n",
    "    \n",
    "    return spam_model\n",
    "    \n",
    "\n",
    "def fit_model(inputs, \n",
    "              targets, \n",
    "              spam_model,\n",
    "              num_iter = 2000):\n",
    "    d = targets.shape[1]\n",
    "    model = ModelQuantumMap(channel = KrausMap(d = d, \n",
    "                                        rank = d**2,\n",
    "                                        spam = spam_model,\n",
    "                                        ),\n",
    "                    loss_function = ProbabilityMSE(),\n",
    "                    optimizer = tf.optimizers.Adam(learning_rate=0.01),\n",
    "                    logger = Logger(loss_function_list = [ProbabilityRValue()], sample_freq=100),\n",
    "                )\n",
    "\n",
    "    model.train(inputs = inputs,\n",
    "                targets = targets,\n",
    "                inputs_val = [inputs],\n",
    "                targets_val = [targets],\n",
    "                num_iter = num_iter,\n",
    "                N = 500,\n",
    "                verbose=False\n",
    "                )\n",
    "    \n",
    "    return model"
   ]
  },
  {
   "cell_type": "markdown",
   "metadata": {},
   "source": [
    "## Loss as a function of Depth"
   ]
  },
  {
   "cell_type": "code",
   "execution_count": 3,
   "metadata": {},
   "outputs": [
    {
     "name": "stderr",
     "output_type": "stream",
     "text": [
      "2024-12-05 14:26:53.640767: I tensorflow/core/common_runtime/process_util.cc:146] Creating new thread pool with default inter op setting: 2. Tune using inter_op_parallelism_threads for best performance.\n"
     ]
    }
   ],
   "source": [
    "n = 4\n",
    "d = 2**n\n",
    "\n",
    "num_layer_list = [8, 16, 24, 32, 40, 56, 72, 88, 104, 120]\n",
    "\n",
    "\n",
    "loss_list = []\n",
    "\n",
    "for num_layer in num_layer_list:\n",
    "    model = pkl.load(open(f\"models/L={num_layer}.model\", \"rb\"))[0]\n",
    "    loss = model.logger.loss_list[0][-1]\n",
    "    loss_list.append(loss)    "
   ]
  },
  {
   "cell_type": "code",
   "execution_count": 5,
   "metadata": {},
   "outputs": [
    {
     "data": {
      "image/png": "[encoded data removed]",
      "text/plain": [
       "<Figure size 640x480 with 1 Axes>"
      ]
     },
     "metadata": {},
     "output_type": "display_data"
    }
   ],
   "source": [
    "plt.plot(num_layer_list, loss_list, \"-o\")\n",
    "plt.xlabel(\"Number of layers\")\n",
    "plt.ylabel(\"R-value on Probabilities\")\n",
    "plt.ylim(0.5, 1)\n",
    "plt.grid()\n",
    "plt.savefig(\"figures/loss_curve.pdf\")\n",
    "plt.show()"
   ]
  }
 ],
 "metadata": {
  "kernelspec": {
   "display_name": "env_phd",
   "language": "python",
   "name": "python3"
  },
  "language_info": {
   "codemirror_mode": {
    "name": "ipython",
    "version": 3
   },
   "file_extension": ".py",
   "mimetype": "text/x-python",
   "name": "python",
   "nbconvert_exporter": "python",
   "pygments_lexer": "ipython3",
   "version": "3.10.13"
  }
 },
 "nbformat": 4,
 "nbformat_minor": 4
}
