{
 "cells": [
  {
   "attachments": {},
   "cell_type": "markdown",
   "metadata": {},
   "source": [
    "# Marginals, Haar"
   ]
  },
  {
   "cell_type": "code",
   "execution_count": 1,
   "metadata": {},
   "outputs": [],
   "source": [
    "import sys\n",
    "sys.path.insert(0, '../../src/')\n",
    "\n",
    "import numpy as np\n",
    "from analysis import hist_ensamble\n",
    "from statsmodels.nonparametric.kernel_regression import KernelReg\n",
    "\n",
    "#np.set_printoptions(threshold=sys.maxsize)\n",
    "np.set_printoptions(precision=4)\n",
    "\n",
    "import os\n",
    "os.environ[\"CUDA_VISIBLE_DEVICES\"] = \"-1\"\n"
   ]
  },
  {
   "cell_type": "code",
   "execution_count": 2,
   "metadata": {},
   "outputs": [],
   "source": [
    "#pandas load .dat\n",
    "import pandas as pd\n",
    "import os\n",
    "import numpy as np\n",
    "\n",
    "def load_data(file_path):\n",
    "    # Check if the file exists\n",
    "    if not os.path.exists(file_path):\n",
    "        raise FileNotFoundError(f\"The file {file_path} does not exist.\")\n",
    "\n",
    "    # Load the data using pandas\n",
    "    data = pd.read_csv(file_path, delim_whitespace=True, header=None)\n",
    "    \n",
    "    # Convert the DataFrame to a NumPy array\n",
    "    data_array = data.to_numpy()\n",
    "    \n",
    "    return data_array\n",
    "\n",
    "import re\n",
    "import numpy as np\n",
    "\n",
    "# pre-compile the regex for performance\n",
    "_exp_pat = re.compile(r'\\*\\^([+-]?\\d+)')\n",
    "\n",
    "\n",
    "def to_complex_array(obj_arr: np.ndarray) -> np.ndarray:\n",
    "    \"\"\"\n",
    "    Convert an array of strings of the form\n",
    "      - 'a+bi*I'\n",
    "      - 'a-bi*I'\n",
    "      - 'a*^b+ci*I'\n",
    "      - 'a*^b-ci*I'\n",
    "    into a numpy array of complex numbers.\n",
    "    \n",
    "    Parameters\n",
    "    ----------\n",
    "    obj_arr : np.ndarray\n",
    "        Object-dtype (or string-dtype) array where each entry is a string\n",
    "        like '0.5+1.2*I' or '-3.9*^-7-0.37*I'.\n",
    "    \n",
    "    Returns\n",
    "    -------\n",
    "    np.ndarray\n",
    "        Array of dtype complex128 with the same shape as obj_arr.\n",
    "    \"\"\"\n",
    "    str_arr = obj_arr.astype(str)\n",
    "    \n",
    "    def _convert_one(s: str) -> str:\n",
    "        # 1) replace \"*^b\" → \"eb\"\n",
    "        s = _exp_pat.sub(r'e\\1', s)\n",
    "        # 2) replace \"*I\" → \"j\"\n",
    "        s = s.replace('*I', 'j')\n",
    "        return s\n",
    "    \n",
    "    # vectorize across the array\n",
    "    vect = np.vectorize(_convert_one, otypes=[str])\n",
    "    j_arr = vect(str_arr)\n",
    "    \n",
    "    # finally cast to complex128\n",
    "    return j_arr.astype(np.complex128)"
   ]
  },
  {
   "cell_type": "code",
   "execution_count": 15,
   "metadata": {},
   "outputs": [
    {
     "name": "stderr",
     "output_type": "stream",
     "text": [
      "C:\\Users\\krist\\AppData\\Local\\Temp\\ipykernel_1512\\3382094422.py:12: FutureWarning: The 'delim_whitespace' keyword in pd.read_csv is deprecated and will be removed in a future version. Use ``sep='\\s+'`` instead\n",
      "  data = pd.read_csv(file_path, delim_whitespace=True, header=None)\n"
     ]
    }
   ],
   "source": [
    "raw = load_data(\"data/AI_4_1.large\")\n",
    "AI_4_1 = to_complex_array(raw)"
   ]
  },
  {
   "cell_type": "markdown",
   "metadata": {},
   "source": [
    "## Radial and Angular\n",
    "\n",
    "### AI"
   ]
  },
  {
   "cell_type": "code",
   "execution_count": 16,
   "metadata": {},
   "outputs": [
    {
     "name": "stdout",
     "output_type": "stream",
     "text": [
      "0.730666908336575\n",
      "0.19849352312582436\n"
     ]
    }
   ],
   "source": [
    "radial = np.abs(AI_4_1)\n",
    "angular = np.angle(AI_4_1)\n",
    "\n",
    "print(np.mean(radial))\n",
    "print(-np.mean(np.cos(angular)))\n",
    "\n",
    "r_bins = np.linspace(0, 1, 100)\n",
    "r_bins_large = np.linspace(0, 1, 1000)\n",
    "r_cbin_large = (r_bins_large[:-1] + r_bins_large[1:]) / 2\n",
    "\n",
    "a_bins = np.linspace(-np.pi, np.pi, 100)\n",
    "a_bins_large = np.linspace(-np.pi, np.pi, 1000)\n",
    "a_cbin_large = (a_bins_large[:-1] + a_bins_large[1:]) / 2\n",
    "\n",
    "center_bins_r, hist_r, _ = hist_ensamble([radial], r_bins)\n",
    "center_bins_a, hist_a, _ = hist_ensamble([angular], a_bins)\n",
    "\n",
    "kr = KernelReg(endog=hist_r, exog=center_bins_r, var_type='c', bw=[0.05]) \n",
    "hist_r, _ = kr.fit(r_cbin_large.reshape(-1, 1))\n",
    "\n",
    "kr = KernelReg(endog=hist_a, exog=center_bins_a, var_type='c', bw=[0.05]) \n",
    "hist_a, _ = kr.fit(a_cbin_large.reshape(-1, 1))\n",
    "\n",
    "\n",
    "radial_AI_hist = np.array([r_cbin_large, hist_r]).T\n",
    "angular_AI_hist = np.array([a_cbin_large, hist_a]).T\n",
    "\n",
    "np.savetxt('bookkeeping/figure3/radial_AI_theory.txt', radial_AI_hist)\n",
    "np.savetxt('bookkeeping/figure3/angular_AI_theory.txt', angular_AI_hist)"
   ]
  },
  {
   "cell_type": "markdown",
   "metadata": {},
   "source": [
    "### FF"
   ]
  },
  {
   "cell_type": "code",
   "execution_count": 17,
   "metadata": {},
   "outputs": [
    {
     "name": "stderr",
     "output_type": "stream",
     "text": [
      "C:\\Users\\krist\\AppData\\Local\\Temp\\ipykernel_1512\\3382094422.py:12: FutureWarning: The 'delim_whitespace' keyword in pd.read_csv is deprecated and will be removed in a future version. Use ``sep='\\s+'`` instead\n",
      "  data = pd.read_csv(file_path, delim_whitespace=True, header=None)\n"
     ]
    }
   ],
   "source": [
    "raw = load_data(\"data/FF_4_1_nosel_amend.large\")\n",
    "FF_4_1 = to_complex_array(raw)"
   ]
  },
  {
   "cell_type": "code",
   "execution_count": 19,
   "metadata": {},
   "outputs": [
    {
     "name": "stdout",
     "output_type": "stream",
     "text": [
      "0.6177348961486886\n",
      "-0.09610440656318214\n",
      "(999,)\n"
     ]
    }
   ],
   "source": [
    "radial = np.abs(FF_4_1)\n",
    "angular = np.angle(FF_4_1)\n",
    "\n",
    "print(np.mean(radial))\n",
    "print(-np.mean(np.cos(angular)))\n",
    "\n",
    "r_bins = np.linspace(0, 1, 100)\n",
    "r_bins_large = np.linspace(0, 1, 1000)\n",
    "r_cbin_large = (r_bins_large[:-1] + r_bins_large[1:]) / 2\n",
    "\n",
    "a_bins = np.linspace(-np.pi, np.pi, 100)\n",
    "a_bins_large = np.linspace(-np.pi, np.pi, 1000)\n",
    "a_cbin_large = (a_bins_large[:-1] + a_bins_large[1:]) / 2\n",
    "\n",
    "center_bins_r, hist_r, _ = hist_ensamble([radial], r_bins)\n",
    "center_bins_a, hist_a, _ = hist_ensamble([angular], a_bins)\n",
    "\n",
    "kr = KernelReg(endog=hist_r, exog=center_bins_r, var_type='c', bw=[0.05]) \n",
    "hist_r, _ = kr.fit(r_cbin_large.reshape(-1, 1))\n",
    "\n",
    "kr = KernelReg(endog=hist_a, exog=center_bins_a, var_type='c', bw=[0.05]) \n",
    "hist_a, _ = kr.fit(a_cbin_large.reshape(-1, 1))\n",
    "\n",
    "print(hist_r.shape)\n",
    "\n",
    "radial_FF_hist = np.array([r_cbin_large, hist_r]).T\n",
    "angular_FF_hist = np.array([a_cbin_large, hist_a]).T\n",
    "\n",
    "np.savetxt('bookkeeping/figure3/radial_FF_theory.txt', radial_FF_hist)\n",
    "np.savetxt('bookkeeping/figure3/angular_FF_theory.txt', angular_FF_hist)"
   ]
  }
 ],
 "metadata": {
  "kernelspec": {
   "display_name": "env_phd",
   "language": "python",
   "name": "python3"
  },
  "language_info": {
   "codemirror_mode": {
    "name": "ipython",
    "version": 3
   },
   "file_extension": ".py",
   "mimetype": "text/x-python",
   "name": "python",
   "nbconvert_exporter": "python",
   "pygments_lexer": "ipython3",
   "version": "3.10.13"
  }
 },
 "nbformat": 4,
 "nbformat_minor": 4
}
