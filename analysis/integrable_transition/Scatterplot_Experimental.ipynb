{
 "cells": [
  {
   "attachments": {},
   "cell_type": "markdown",
   "metadata": {},
   "source": [
    "# Scatterplot, Experimental"
   ]
  },
  {
   "cell_type": "code",
   "execution_count": 2,
   "metadata": {},
   "outputs": [],
   "source": [
    "import sys\n",
    "sys.path.insert(0, '../../src/')\n",
    "\n",
    "import numpy as np\n",
    "import pickle as pkl\n",
    "import tensorflow as tf\n",
    "\n",
    "from spectrum import spectrum_to_angular, spectrum_to_radial\n",
    "from analysis import model_to_csr, scatterplot_stats\n",
    "\n",
    "#np.set_printoptions(threshold=sys.maxsize)\n",
    "np.set_printoptions(precision=4)\n",
    "\n",
    "import os\n",
    "os.environ[\"CUDA_VISIBLE_DEVICES\"] = \"-1\"\n",
    "tf.compat.v1.logging.set_verbosity(tf.compat.v1.logging.ERROR)"
   ]
  },
  {
   "cell_type": "markdown",
   "metadata": {},
   "source": [
    "## Retrieve CSR\n",
    "\n",
    "### L = 5"
   ]
  },
  {
   "cell_type": "code",
   "execution_count": 3,
   "metadata": {},
   "outputs": [],
   "source": [
    "model_list = pkl.load(open(f'../fitting_maps/models/integrable_model_4_L=5.model', 'rb'))\n",
    "\n",
    "csr_integrable_list = model_to_csr(model_list)\n",
    "radial_list = spectrum_to_radial(csr_integrable_list)\n",
    "angular_list = spectrum_to_angular(csr_integrable_list)\n",
    "\n",
    "r_mean_L5, a_mean_L5 = scatterplot_stats(radial_list, angular_list)"
   ]
  },
  {
   "cell_type": "markdown",
   "metadata": {},
   "source": [
    "### L = 10"
   ]
  },
  {
   "cell_type": "code",
   "execution_count": null,
   "metadata": {},
   "outputs": [],
   "source": [
    "model_list = pkl.load(open(f'../fitting_maps/models/integrable_model_4_L=10.model', 'rb'))\n",
    "\n",
    "csr_integrable_list = model_to_csr(model_list)\n",
    "radial_list = spectrum_to_radial(csr_integrable_list)\n",
    "angular_list = spectrum_to_angular(csr_integrable_list)\n",
    "\n",
    "r_mean_L10, a_mean_L10 = scatterplot_stats(radial_list, angular_list)"
   ]
  },
  {
   "cell_type": "markdown",
   "metadata": {},
   "source": [
    "### L = 20"
   ]
  },
  {
   "cell_type": "code",
   "execution_count": null,
   "metadata": {},
   "outputs": [],
   "source": [
    "model_list = pkl.load(open(f'../fitting_maps/models/integrable_model_4_L=20_reorder.model', 'rb'))\n",
    "\n",
    "csr_integrable_list = model_to_csr(model_list)\n",
    "radial_list = spectrum_to_radial(csr_integrable_list)\n",
    "angular_list = spectrum_to_angular(csr_integrable_list)\n",
    "\n",
    "r_mean_L20, a_mean_L20 = scatterplot_stats(radial_list, angular_list)"
   ]
  },
  {
   "cell_type": "markdown",
   "metadata": {},
   "source": [
    "### L = 30"
   ]
  },
  {
   "cell_type": "code",
   "execution_count": null,
   "metadata": {},
   "outputs": [],
   "source": [
    "model_list = pkl.load(open(f'../fitting_maps/models/integrable_model_4_L=30_reorder.model', 'rb'))\n",
    "\n",
    "csr_integrable_list = model_to_csr(model_list)\n",
    "radial_list = spectrum_to_radial(csr_integrable_list)\n",
    "angular_list = spectrum_to_angular(csr_integrable_list)\n",
    "\n",
    "r_mean_L30, a_mean_L30 = scatterplot_stats(radial_list, angular_list)"
   ]
  },
  {
   "cell_type": "markdown",
   "metadata": {},
   "source": [
    "### L = 40"
   ]
  },
  {
   "cell_type": "code",
   "execution_count": null,
   "metadata": {},
   "outputs": [],
   "source": [
    "model_list = pkl.load(open(f'../fitting_maps/models/integrable_model_4_L=40_reorder.model', 'rb'))\n",
    "\n",
    "csr_integrable_list = model_to_csr(model_list)\n",
    "radial_list = spectrum_to_radial(csr_integrable_list)\n",
    "angular_list = spectrum_to_angular(csr_integrable_list)\n",
    "\n",
    "r_mean_L40, a_mean_L40 = scatterplot_stats(radial_list, angular_list)"
   ]
  },
  {
   "cell_type": "markdown",
   "metadata": {},
   "source": [
    "### L = 50"
   ]
  },
  {
   "cell_type": "code",
   "execution_count": null,
   "metadata": {},
   "outputs": [],
   "source": [
    "model_list = pkl.load(open(f'../fitting_maps/models/integrable_model_4_L=50_reorder.model', 'rb'))\n",
    "\n",
    "csr_integrable_list = model_to_csr(model_list)\n",
    "radial_list = spectrum_to_radial(csr_integrable_list)\n",
    "angular_list = spectrum_to_angular(csr_integrable_list)\n",
    "\n",
    "r_mean_L50, a_mean_L50 = scatterplot_stats(radial_list, angular_list)"
   ]
  },
  {
   "cell_type": "markdown",
   "metadata": {},
   "source": [
    "## Book Keeping"
   ]
  },
  {
   "cell_type": "code",
   "execution_count": 10,
   "metadata": {},
   "outputs": [],
   "source": [
    "r_AI, a_AI = 0.730666908336575, 0.19849352312582436\n",
    "r_FF, a_FF = 0.6177348961486886, -0.09610440656318214\n",
    "\n",
    "r_mean = [r_mean_L5, r_mean_L10, r_mean_L20, r_mean_L30, r_mean_L40, r_mean_L50]\n",
    "r_theory = [r_AI, r_FF]\n",
    "\n",
    "a_mean = [a_mean_L5, a_mean_L10, a_mean_L20, a_mean_L30, a_mean_L40, a_mean_L50]\n",
    "a_theory = [a_AI, a_FF]"
   ]
  },
  {
   "cell_type": "code",
   "execution_count": 11,
   "metadata": {},
   "outputs": [],
   "source": [
    "marginals_mean_experimental = np.array([r_mean, a_mean]).T\n",
    "np.savetxt(\"bookkeeping/figure3/scatterplot_mean.txt\", marginals_mean_experimental)\n",
    "\n",
    "marginals_theory = np.array([r_theory, a_theory]).T\n",
    "np.savetxt(\"bookkeeping/figure3/scatterplot_theory.txt\", marginals_theory)"
   ]
  }
 ],
 "metadata": {
  "kernelspec": {
   "display_name": "env_phd",
   "language": "python",
   "name": "python3"
  },
  "language_info": {
   "codemirror_mode": {
    "name": "ipython",
    "version": 3
   },
   "file_extension": ".py",
   "mimetype": "text/x-python",
   "name": "python",
   "nbconvert_exporter": "python",
   "pygments_lexer": "ipython3",
   "version": "3.10.13"
  }
 },
 "nbformat": 4,
 "nbformat_minor": 4
}
