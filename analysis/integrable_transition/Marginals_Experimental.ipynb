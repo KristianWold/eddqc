{
 "cells": [
  {
   "attachments": {},
   "cell_type": "markdown",
   "metadata": {},
   "source": [
    "# Marginals, Experimental"
   ]
  },
  {
   "cell_type": "code",
   "execution_count": 1,
   "metadata": {},
   "outputs": [
    {
     "name": "stdout",
     "output_type": "stream",
     "text": [
      "WARNING:tensorflow:From C:\\Users\\krist\\AppData\\Local\\Temp\\ipykernel_16132\\664989967.py:17: The name tf.logging.set_verbosity is deprecated. Please use tf.compat.v1.logging.set_verbosity instead.\n",
      "\n"
     ]
    }
   ],
   "source": [
    "import sys\n",
    "sys.path.insert(0, '../../src/')\n",
    "\n",
    "import numpy as np\n",
    "import pickle as pkl\n",
    "import tensorflow as tf\n",
    "\n",
    "from spectrum import  spectrum_to_angular, spectrum_to_radial\n",
    "from analysis import hist_ensamble, model_to_csr\n",
    "\n",
    "\n",
    "#np.set_printoptions(threshold=sys.maxsize)\n",
    "np.set_printoptions(precision=4)\n",
    "\n",
    "import os\n",
    "os.environ[\"CUDA_VISIBLE_DEVICES\"] = \"-1\"\n",
    "tf.compat.v1.logging.set_verbosity(tf.compat.v1.logging.ERROR)"
   ]
  },
  {
   "cell_type": "code",
   "execution_count": 3,
   "metadata": {},
   "outputs": [],
   "source": [
    "model_integrable_list = pkl.load(open(f'../models/integrable_model_4_L=5.model', 'rb'))\n",
    "\n",
    "csr_integrable_list = model_to_csr(model_integrable_list)\n",
    "\n",
    "radial_integrable_L5_list = spectrum_to_radial(csr_integrable_list)\n",
    "angular_integrable_L5_list = spectrum_to_angular(csr_integrable_list)\n",
    "\n",
    "model_integrable_list = pkl.load(open(f'../models/integrable_model_4_L=20_reorder.model', 'rb'))\n",
    "csr_integrable_list = model_to_csr(model_integrable_list)\n",
    "radial_integrable_L20_list = spectrum_to_radial(csr_integrable_list)\n",
    "angular_integrable_L20_list = spectrum_to_angular(csr_integrable_list)\n",
    "\n",
    "model_integrable_list = pkl.load(open(f'../models/integrable_model_4_L=50_reorder.model', 'rb'))\n",
    "csr_integrable_list = model_to_csr(model_integrable_list)\n",
    "radial_integrable_L50_list = spectrum_to_radial(csr_integrable_list)\n",
    "angular_integrable_L50_list = spectrum_to_angular(csr_integrable_list)"
   ]
  },
  {
   "cell_type": "markdown",
   "metadata": {},
   "source": [
    "## Book Keeping"
   ]
  },
  {
   "cell_type": "code",
   "execution_count": 7,
   "metadata": {},
   "outputs": [],
   "source": [
    "center_bins1, hist1, _ = hist_ensamble(radial_integrable_L5_list, bins=np.linspace(0, 1, 13))\n",
    "center_bins2, hist2, _ = hist_ensamble(radial_integrable_L20_list, bins=np.linspace(0, 1, 13))\n",
    "center_bins3, hist3, _ = hist_ensamble(radial_integrable_L50_list, bins=np.linspace(0, 1, 13))\n",
    "\n",
    "data1 = np.array([center_bins1, hist1]).T\n",
    "np.savetxt(\"bookkeeping/figure3/radial_L=5.txt\", data1)\n",
    "\n",
    "data2 = np.array([center_bins2, hist2]).T\n",
    "np.savetxt(\"bookkeeping/figure3/radial_L=20.txt\", data2)\n",
    "\n",
    "data3 = np.array([center_bins3, hist3]).T\n",
    "np.savetxt(\"bookkeeping/figure3/radial_L=50.txt\", data3)\n",
    "\n",
    "center_bins4, hist4, _ = hist_ensamble(angular_integrable_L5_list, bins=np.linspace(-np.pi, np.pi, 16))\n",
    "center_bins5, hist5, _ = hist_ensamble(angular_integrable_L20_list, bins=np.linspace(-np.pi, np.pi, 16))\n",
    "center_bins6, hist6, _ = hist_ensamble(angular_integrable_L50_list, bins=np.linspace(-np.pi, np.pi, 16))\n",
    "\n",
    "data4 = np.array([center_bins4, hist4]).T\n",
    "np.savetxt(\"bookkeeping/figure3/angular_L=5.txt\", data4)\n",
    "\n",
    "data5 = np.array([center_bins5, hist5]).T\n",
    "np.savetxt(\"bookkeeping/figure3/angular_L=20.txt\", data5)\n",
    "\n",
    "data6 = np.array([center_bins6, hist6]).T\n",
    "np.savetxt(\"bookkeeping/figure3/angular_L=50.txt\", data6)\n",
    "\n"
   ]
  }
 ],
 "metadata": {
  "kernelspec": {
   "display_name": "env_phd",
   "language": "python",
   "name": "python3"
  },
  "language_info": {
   "codemirror_mode": {
    "name": "ipython",
    "version": 3
   },
   "file_extension": ".py",
   "mimetype": "text/x-python",
   "name": "python",
   "nbconvert_exporter": "python",
   "pygments_lexer": "ipython3",
   "version": "3.10.13"
  }
 },
 "nbformat": 4,
 "nbformat_minor": 4
}
