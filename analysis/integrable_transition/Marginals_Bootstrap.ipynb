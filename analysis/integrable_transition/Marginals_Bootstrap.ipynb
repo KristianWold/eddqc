{
 "cells": [
  {
   "attachments": {},
   "cell_type": "markdown",
   "metadata": {},
   "source": [
    "# Marginals, Bootstrap"
   ]
  },
  {
   "cell_type": "code",
   "execution_count": 1,
   "metadata": {},
   "outputs": [
    {
     "name": "stdout",
     "output_type": "stream",
     "text": [
      "WARNING:tensorflow:From C:\\Users\\krist\\AppData\\Local\\Temp\\ipykernel_25536\\3777576672.py:19: The name tf.logging.set_verbosity is deprecated. Please use tf.compat.v1.logging.set_verbosity instead.\n",
      "\n"
     ]
    }
   ],
   "source": [
    "import sys\n",
    "sys.path.insert(0, '../../src/')\n",
    "\n",
    "import numpy as np\n",
    "import pickle as pkl\n",
    "import tensorflow as tf\n",
    "\n",
    "from tqdm.notebook import tqdm\n",
    "\n",
    "from spectrum import  spectrum_to_angular, spectrum_to_radial\n",
    "from analysis import hist_ensamble, model_to_csr\n",
    "\n",
    "\n",
    "#np.set_printoptions(threshold=sys.maxsize)\n",
    "np.set_printoptions(precision=4)\n",
    "\n",
    "import os\n",
    "os.environ[\"CUDA_VISIBLE_DEVICES\"] = \"-1\"\n",
    "tf.compat.v1.logging.set_verbosity(tf.compat.v1.logging.ERROR)"
   ]
  },
  {
   "cell_type": "code",
   "execution_count": 2,
   "metadata": {},
   "outputs": [
    {
     "data": {
      "application/vnd.jupyter.widget-view+json": {
       "model_id": "116c2a86f1a54837916f383f6d0191c7",
       "version_major": 2,
       "version_minor": 0
      },
      "text/plain": [
       "  0%|          | 0/10 [00:00<?, ?it/s]"
      ]
     },
     "metadata": {},
     "output_type": "display_data"
    }
   ],
   "source": [
    "r_mean_list_temp = []\n",
    "r_std_list_temp = []\n",
    "\n",
    "a_mean_list_temp = []\n",
    "a_std_list_temp = []\n",
    "\n",
    "seed = 42\n",
    "\n",
    "r_hist_err_list = []\n",
    "a_hist_err_list = []\n",
    "\n",
    "for i in tqdm(range(10)):\n",
    "    models = pkl.load(open(f'../fitting_maps/models/integrable_model_L=5_bootstrap_seed{seed + i}.model', 'rb'))\n",
    "    csr = model_to_csr(models)\n",
    "\n",
    "    radial = spectrum_to_radial(csr)\n",
    "    center_bins, hist, r_hist_err = hist_ensamble(radial, bins=np.linspace(0, 1, 13), density=True)\n",
    "    r_hist_err_list.append(r_hist_err)\n",
    "\n",
    "    angular = spectrum_to_angular(csr)\n",
    "    center_bins, hist, a_hist_err = hist_ensamble(angular, bins=np.linspace(-np.pi, np.pi, 16), density=True)\n",
    "    a_hist_err_list.append(a_hist_err)\n",
    "\n",
    "r_hist_err_list = np.array(r_hist_err_list)\n",
    "a_hist_err_list = np.array(a_hist_err_list)\n",
    "\n",
    "r_hist_err = np.sqrt(np.mean(r_hist_err_list**2, axis=0))/np.sqrt(10)\n",
    "a_hist_err = np.sqrt(np.mean(a_hist_err_list**2, axis=0))/np.sqrt(10)\n",
    "\n",
    "np.savetxt('bookkeeping/figure3/radial_std_L=5.txt', r_hist_err)\n",
    "np.savetxt('bookkeeping/figure3/angular_std_L=5.txt', a_hist_err)"
   ]
  },
  {
   "cell_type": "code",
   "execution_count": 3,
   "metadata": {},
   "outputs": [
    {
     "data": {
      "application/vnd.jupyter.widget-view+json": {
       "model_id": "e53edc52955b42e7a5ce7b77cf094b2d",
       "version_major": 2,
       "version_minor": 0
      },
      "text/plain": [
       "  0%|          | 0/10 [00:00<?, ?it/s]"
      ]
     },
     "metadata": {},
     "output_type": "display_data"
    }
   ],
   "source": [
    "r_mean_list_temp = []\n",
    "r_std_list_temp = []\n",
    "\n",
    "a_mean_list_temp = []\n",
    "a_std_list_temp = []\n",
    "\n",
    "seed = 42\n",
    "\n",
    "r_hist_err_list = []\n",
    "a_hist_err_list = []\n",
    "\n",
    "for i in tqdm(range(10)):\n",
    "    models = pkl.load(open(f'../fitting_maps/models/integrable_model_L=20_bootstrap_seed{seed + i}.model', 'rb'))\n",
    "    csr = model_to_csr(models)\n",
    "\n",
    "    radial = spectrum_to_radial(csr)\n",
    "    center_bins, hist, r_hist_err  = hist_ensamble(radial, bins=np.linspace(0, 1, 13), density=True)\n",
    "    r_hist_err_list.append(r_hist_err)\n",
    "\n",
    "    angular = spectrum_to_angular(csr)\n",
    "    center_bins, hist, a_hist_err = hist_ensamble(angular, bins=np.linspace(-np.pi, np.pi, 16), density=True)\n",
    "    a_hist_err_list.append(a_hist_err)\n",
    "\n",
    "r_hist_err_list = np.array(r_hist_err_list)\n",
    "a_hist_err_list = np.array(a_hist_err_list)\n",
    "\n",
    "r_hist_err = np.sqrt(np.mean(r_hist_err_list**2, axis=0))/np.sqrt(10)\n",
    "a_hist_err = np.sqrt(np.mean(a_hist_err_list**2, axis=0))/np.sqrt(10)\n",
    "\n",
    "np.savetxt('bookkeeping/figure3/radial_std_L=20.txt', r_hist_err)\n",
    "np.savetxt('bookkeeping/figure3/angular_std_L=20.txt', a_hist_err)"
   ]
  },
  {
   "cell_type": "code",
   "execution_count": 4,
   "metadata": {},
   "outputs": [
    {
     "data": {
      "application/vnd.jupyter.widget-view+json": {
       "model_id": "2808b7b986ed42908a30244386309c11",
       "version_major": 2,
       "version_minor": 0
      },
      "text/plain": [
       "  0%|          | 0/10 [00:00<?, ?it/s]"
      ]
     },
     "metadata": {},
     "output_type": "display_data"
    }
   ],
   "source": [
    "r_mean_list_temp = []\n",
    "r_std_list_temp = []\n",
    "\n",
    "a_mean_list_temp = []\n",
    "a_std_list_temp = []\n",
    "\n",
    "seed = 42\n",
    "\n",
    "r_hist_err_list = []\n",
    "a_hist_err_list = []\n",
    "\n",
    "for i in tqdm(range(10)):\n",
    "    models = pkl.load(open(f'../fitting_maps/models/integrable_model_L=50_bootstrap_seed{seed + i}.model', 'rb'))\n",
    "    csr = model_to_csr(models)\n",
    "\n",
    "    radial = spectrum_to_radial(csr)\n",
    "    center_bins, hist, r_hist_err  = hist_ensamble(radial, bins=np.linspace(0, 1, 13), density=True)\n",
    "    r_hist_err_list.append(r_hist_err)\n",
    "\n",
    "    angular = spectrum_to_angular(csr)\n",
    "    center_bins, hist, a_hist_err = hist_ensamble(angular, bins=np.linspace(-np.pi, np.pi, 16), density=True)\n",
    "    a_hist_err_list.append(a_hist_err)\n",
    "\n",
    "r_hist_err_list = np.array(r_hist_err_list)\n",
    "a_hist_err_list = np.array(a_hist_err_list)\n",
    "\n",
    "r_hist_err = np.sqrt(np.mean(r_hist_err_list**2, axis=0))/np.sqrt(10)\n",
    "a_hist_err = np.sqrt(np.mean(a_hist_err_list**2, axis=0))/np.sqrt(10)\n",
    "\n",
    "np.savetxt('bookkeeping/figure3/radial_std_L=50.txt', r_hist_err)\n",
    "np.savetxt('bookkeeping/figure3/angular_std_L=50.txt', a_hist_err)"
   ]
  }
 ],
 "metadata": {
  "kernelspec": {
   "display_name": "env_phd",
   "language": "python",
   "name": "python3"
  },
  "language_info": {
   "codemirror_mode": {
    "name": "ipython",
    "version": 3
   },
   "file_extension": ".py",
   "mimetype": "text/x-python",
   "name": "python",
   "nbconvert_exporter": "python",
   "pygments_lexer": "ipython3",
   "version": "3.10.13"
  }
 },
 "nbformat": 4,
 "nbformat_minor": 4
}
