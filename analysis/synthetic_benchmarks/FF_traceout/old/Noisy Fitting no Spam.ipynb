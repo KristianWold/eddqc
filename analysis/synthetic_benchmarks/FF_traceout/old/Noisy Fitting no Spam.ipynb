{
 "cells": [
  {
   "attachments": {},
   "cell_type": "markdown",
   "metadata": {},
   "source": [
    "# FF Convergence"
   ]
  },
  {
   "cell_type": "code",
   "execution_count": 5,
   "metadata": {},
   "outputs": [],
   "source": [
    "import sys\n",
    "sys.path.insert(0, '../../../../src_tf/')\n",
    "\n",
    "import numpy as np\n",
    "import qiskit as qk\n",
    "import matplotlib.pyplot as plt\n",
    "import multiprocessing as mp\n",
    "import tensorflow as tf\n",
    "import random\n",
    "import pickle as pkl\n",
    "\n",
    "from qiskit.quantum_info import Operator, Statevector, random_unitary\n",
    "from scipy.linalg import sqrtm\n",
    "from tqdm.notebook import tqdm\n",
    "from math import ceil\n",
    "\n",
    "from quantum_tools import circuit_to_matrix, partial_trace\n",
    "from kraus_channels import isomery_to_kraus, KrausMap\n",
    "from quantum_channel import ConcatChannel, DilutedChannel, IdentityChannel, ChoiMapStatic\n",
    "from utils import numberToBase, kron\n",
    "from spectrum import complex_spacing_ratio, channel_spectrum, Spectrum, mean_spacing, coat_spectrum\n",
    "from analysis import spectrum_to_angular, spectrum_to_radial, hist_ensamble\n",
    "from qiskit.circuit.library import iSwapGate, XGate, YGate, HGate, CXGate, RGate, RZGate\n",
    "from quantum_circuits import integrable_circuit, nonintegrable_circuit, haar_random\n",
    "from synthetic_data import generate_map_data, generate_spam_data, generate_spam_benchmark\n",
    "from optimization import ModelQuantumMap, ModelSPAM, Logger, model_saver\n",
    "from loss_functions import ProbabilityMSE, ProbabilityRValue, channel_fidelity_loss\n",
    "from spam import SPAM, InitialState, POVMwQR as POVM, CorruptionMatrix, IdealSPAM\n",
    "\n",
    "#np.set_printoptions(threshold=sys.maxsize)\n",
    "np.set_printoptions(precision=1)\n",
    "\n",
    "import os\n",
    "os.environ[\"CUDA_VISIBLE_DEVICES\"] = \"-1\"\n",
    "tf.compat.v1.logging.set_verbosity(tf.compat.v1.logging.ERROR)\n"
   ]
  },
  {
   "cell_type": "markdown",
   "metadata": {},
   "source": [
    "## Circuits"
   ]
  },
  {
   "cell_type": "code",
   "execution_count": 2,
   "metadata": {},
   "outputs": [],
   "source": [
    "def sample_traceout_csr(n, n_anc, reps, circuit_type, L):\n",
    "    channel_list = []\n",
    "    spectra_list = []\n",
    "    csr_list = []\n",
    "\n",
    "\n",
    "    for _ in tqdm(range(reps)):\n",
    "        circuit = circuit_type(n+n_anc, L)\n",
    "        U = Operator(circuit).data\n",
    "\n",
    "        kraus_map = isomery_to_kraus(U, rank = 2**n_anc)\n",
    "        channel_list.append(kraus_map)\n",
    "        \n",
    "        spectrum = channel_spectrum(kraus_map)\n",
    "        spectra_list.append(spectrum)\n",
    "        csr = complex_spacing_ratio(spectrum, log=False)\n",
    "        csr_list.append(csr)\n",
    "\n",
    "    return  channel_list, spectra_list, csr_list"
   ]
  },
  {
   "cell_type": "code",
   "execution_count": 3,
   "metadata": {},
   "outputs": [],
   "source": [
    "def fit_spam(inputs, \n",
    "             targets,\n",
    "             num_iter = 3000,\n",
    "             verbose = False):\n",
    "    d = targets.shape[1]\n",
    "    spam_model = SPAM(init = InitialState(d),\n",
    "                    povm = CorruptionMatrix(d),\n",
    "                    )\n",
    "\n",
    "    spam_opt = ModelSPAM(spam_model, tf.keras.optimizers.Adam(learning_rate=0.01))\n",
    "        \n",
    "    spam_opt.pretrain(100, verbose=False)\n",
    "\n",
    "    spam_opt.train(inputs = inputs,\n",
    "                    targets = targets,\n",
    "                    num_iter = num_iter,\n",
    "                    verbose = verbose,\n",
    "                )\n",
    "    \n",
    "    return spam_model\n",
    "    \n",
    "\n",
    "def fit_model(inputs, \n",
    "              targets,\n",
    "              channel, \n",
    "              spam_model,\n",
    "              num_iter = 3000,\n",
    "              verbose=False):\n",
    "    d = targets.shape[1]\n",
    "    model = ModelQuantumMap(channel = KrausMap(d = d, \n",
    "                                        rank = d**2,\n",
    "                                        spam = spam_model,\n",
    "                                        ),\n",
    "                    loss_function = ProbabilityMSE(),\n",
    "                    optimizer = tf.optimizers.Adam(learning_rate=0.01),\n",
    "                    logger = Logger(loss_function_list = [ProbabilityRValue(), channel_fidelity_loss], sample_freq=100),\n",
    "                )\n",
    "    model.train(inputs = inputs, \n",
    "                targets = targets,\n",
    "                inputs_val = [inputs, None],\n",
    "                targets_val = [targets, [channel]],\n",
    "                N=500,\n",
    "                num_iter = num_iter,\n",
    "                verbose = verbose,)\n",
    "    \n",
    "    return model"
   ]
  },
  {
   "cell_type": "markdown",
   "metadata": {},
   "source": [
    "## Free Fermion"
   ]
  },
  {
   "cell_type": "markdown",
   "metadata": {},
   "source": [
    "### Generate Benchmarks"
   ]
  },
  {
   "cell_type": "code",
   "execution_count": 4,
   "metadata": {},
   "outputs": [],
   "source": [
    "n = 4\n",
    "d = 2**n\n",
    "\n",
    "[channel_FF_list, spectra_FF_list, csr_FF_list] =  pkl.load(open(\"data/FF_synthetic_benchmark.pkl\", \"rb\"))"
   ]
  },
  {
   "cell_type": "markdown",
   "metadata": {},
   "source": [
    "### Generate Synthetic Data and Fit"
   ]
  },
  {
   "cell_type": "code",
   "execution_count": null,
   "metadata": {},
   "outputs": [
    {
     "name": "stdout",
     "output_type": "stream",
     "text": [
      "[0.9948856964484133, -0.9850668282176864]\n",
      "[0.9962156630428204, -0.9854777772857295]\n",
      "[0.9956537781021114, -0.9851699920049471]\n",
      "[0.9950757985389802, -0.9843501901493977]\n",
      "[0.9955827954603652, -0.9853946584632594]\n",
      "[0.9957491013073639, -0.9849208537659377]\n",
      "[0.9961129536846139, -0.9864386776373247]\n",
      "[0.9954508967746061, -0.9847494501981616]\n",
      "[0.9955512047115922, -0.9844991360141891]\n",
      "[0.9959533321477326, -0.985193914176386]\n"
     ]
    }
   ],
   "source": [
    "model_list = []\n",
    "\n",
    "np.random.seed(42)\n",
    "random.seed(42)\n",
    "tf.random.set_seed(42)\n",
    "\n",
    "for channel in channel_FF_list:\n",
    "    \n",
    "    spam_target = IdealSPAM(d)\n",
    "\n",
    "    inputs_map, targets_map = generate_map_data(channel, \n",
    "                                                spam_target = spam_target,\n",
    "                                                N_map=5000-6**n, \n",
    "                                                shots = 12000)\n",
    "\n",
    "    model = fit_model(inputs_map,\n",
    "                    targets_map,\n",
    "                    channel,\n",
    "                    spam_target,\n",
    "                    num_iter = 3000,\n",
    "                    verbose = False\n",
    "                    )\n",
    "\n",
    "    model_list.append(model)\n",
    "\n",
    "model_saver(model_list, \"model_list_FF_noisy_noSpam.model\")\n"
   ]
  },
  {
   "cell_type": "markdown",
   "metadata": {},
   "source": [
    "## Chaotic Haar Random"
   ]
  },
  {
   "cell_type": "markdown",
   "metadata": {},
   "source": [
    "### Generate Benchmarks"
   ]
  },
  {
   "cell_type": "code",
   "execution_count": 7,
   "metadata": {},
   "outputs": [],
   "source": [
    "n = 4\n",
    "d = 2**n\n",
    "\n",
    "[channel_FF_list, spectra_FF_list, csr_FF_list] =  pkl.load(open(\"data/chaotic_synthetic_benchmark.pkl\", \"rb\"))"
   ]
  },
  {
   "cell_type": "markdown",
   "metadata": {},
   "source": [
    "### Generate Synthetic Data and Fit"
   ]
  },
  {
   "cell_type": "code",
   "execution_count": 8,
   "metadata": {},
   "outputs": [
    {
     "data": {
      "application/vnd.jupyter.widget-view+json": {
       "model_id": "d7df9997151549eeb2b2265cc2a48066",
       "version_major": 2,
       "version_minor": 0
      },
      "text/plain": [
       "  0%|          | 0/10 [00:00<?, ?it/s]"
      ]
     },
     "metadata": {},
     "output_type": "display_data"
    },
    {
     "name": "stdout",
     "output_type": "stream",
     "text": [
      "[0.9904482282721974, -0.9823848497374638]\n",
      "[0.9903797801123899, -0.9829675553329221]\n",
      "[0.9904841635992646, -0.9820980688231122]\n",
      "[0.9904696364347323, -0.9820669953989726]\n",
      "[0.990575640099721, -0.9813795070842284]\n",
      "[0.9904794955280019, -0.981610035841893]\n",
      "[0.9904959132417168, -0.981645976993597]\n",
      "[0.9905007192722082, -0.9823577484652025]\n",
      "[0.9904565560967117, -0.9821516646215387]\n",
      "[0.9902642862801311, -0.9812095452091081]\n"
     ]
    }
   ],
   "source": [
    "model_list = []\n",
    "\n",
    "np.random.seed(42)\n",
    "random.seed(42)\n",
    "tf.random.set_seed(42)\n",
    "\n",
    "for channel in tqdm(channel_FF_list):\n",
    "    \n",
    "    spam_target = generate_spam_benchmark(n=4, c1=0.95, c2=0.95)\n",
    "    inputs_spam, targets_spam = generate_spam_data(spam_target, shots=4096)\n",
    "    \n",
    "    spam_model = fit_spam(inputs_spam,\n",
    "                        targets_spam,\n",
    "                        num_iter = 3000,\n",
    "                        verbose = False)\n",
    "        \n",
    "\n",
    "    inputs_map, targets_map = generate_map_data(channel, \n",
    "                                                spam_target = spam_target,\n",
    "                                                N_map=5000-6**n, \n",
    "                                                shots = 4096)\n",
    "\n",
    "    model = fit_model(inputs_map,\n",
    "                    targets_map,\n",
    "                    channel,\n",
    "                    spam_model,\n",
    "                    num_iter = 3000,\n",
    "                    verbose = False\n",
    "                    )\n",
    "\n",
    "    model_list.append(model)\n",
    "\n",
    "model_saver(model_list, \"model_list_chaotic_noisy.model\")\n"
   ]
  }
 ],
 "metadata": {
  "kernelspec": {
   "display_name": "env_qiskit",
   "language": "python",
   "name": "python3"
  },
  "language_info": {
   "codemirror_mode": {
    "name": "ipython",
    "version": 3
   },
   "file_extension": ".py",
   "mimetype": "text/x-python",
   "name": "python",
   "nbconvert_exporter": "python",
   "pygments_lexer": "ipython3",
   "version": "3.10.4"
  }
 },
 "nbformat": 4,
 "nbformat_minor": 4
}
