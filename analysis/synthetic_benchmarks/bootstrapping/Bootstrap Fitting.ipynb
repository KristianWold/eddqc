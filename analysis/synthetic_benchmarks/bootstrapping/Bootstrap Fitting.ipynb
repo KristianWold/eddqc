{
 "cells": [
  {
   "attachments": {},
   "cell_type": "markdown",
   "metadata": {},
   "source": [
    "# Bootstrap Fitting"
   ]
  },
  {
   "cell_type": "code",
   "execution_count": 1,
   "metadata": {},
   "outputs": [
    {
     "name": "stdout",
     "output_type": "stream",
     "text": [
      "WARNING:tensorflow:From C:\\Users\\krist\\AppData\\Local\\Temp\\ipykernel_35304\\739868177.py:22: The name tf.logging.set_verbosity is deprecated. Please use tf.compat.v1.logging.set_verbosity instead.\n",
      "\n"
     ]
    }
   ],
   "source": [
    "import sys\n",
    "sys.path.insert(0, '../../../src/')\n",
    "\n",
    "import numpy as np\n",
    "import tensorflow as tf\n",
    "import random\n",
    "from tqdm.notebook import tqdm\n",
    "\n",
    "from quantum_tools import  resample\n",
    "from kraus_channels import KrausMap\n",
    "from synthetic_data import generate_map_data, generate_spam_data, generate_spam_benchmark\n",
    "from optimization import ModelQuantumMap, ModelSPAM, Logger, model_saver\n",
    "from loss_functions import ProbabilityMSE, ProbabilityRValue, channel_fidelity_loss\n",
    "from spam import SPAM, InitialState, POVMwQR as POVM, CorruptionMatrix\n",
    "from utils import loader\n",
    "\n",
    "#np.set_printoptions(threshold=sys.maxsize)\n",
    "np.set_printoptions(precision=1)\n",
    "\n",
    "import os\n",
    "os.environ[\"CUDA_VISIBLE_DEVICES\"] = \"-1\"\n",
    "tf.compat.v1.logging.set_verbosity(tf.compat.v1.logging.ERROR)\n"
   ]
  },
  {
   "cell_type": "markdown",
   "metadata": {},
   "source": [
    "## Circuits"
   ]
  },
  {
   "cell_type": "code",
   "execution_count": 2,
   "metadata": {},
   "outputs": [],
   "source": [
    "def fit_spam(inputs, \n",
    "             targets,\n",
    "             num_iter = 3000,\n",
    "             verbose = False):\n",
    "    d = targets.shape[1]\n",
    "    spam_model = SPAM(init = InitialState(d),\n",
    "                    povm = CorruptionMatrix(d),\n",
    "                    )\n",
    "\n",
    "    spam_opt = ModelSPAM(spam_model, tf.keras.optimizers.Adam(learning_rate=0.01))\n",
    "        \n",
    "    spam_opt.pretrain(100, verbose=False)\n",
    "\n",
    "    spam_opt.train(inputs = inputs,\n",
    "                    targets = targets,\n",
    "                    num_iter = num_iter,\n",
    "                    verbose = verbose,\n",
    "                )\n",
    "    \n",
    "    return spam_model\n",
    "    \n",
    "\n",
    "def fit_model(inputs, \n",
    "              targets,\n",
    "              channel, \n",
    "              spam_model,\n",
    "              num_iter = 3000,\n",
    "              verbose=False):\n",
    "    d = targets.shape[1]\n",
    "    model = ModelQuantumMap(channel = KrausMap(d = d, \n",
    "                                        rank = d**2,\n",
    "                                        spam = spam_model,\n",
    "                                        ),\n",
    "                    loss_function = ProbabilityMSE(),\n",
    "                    optimizer = tf.optimizers.Adam(learning_rate=0.01),\n",
    "                    logger = Logger(loss_function_list = [ProbabilityRValue(), channel_fidelity_loss], sample_freq=100),\n",
    "                )\n",
    "    model.train(inputs = inputs, \n",
    "                targets = targets,\n",
    "                inputs_val = [inputs, None],\n",
    "                targets_val = [targets, [channel]],\n",
    "                N=500,\n",
    "                num_iter = num_iter,\n",
    "                verbose = verbose,)\n",
    "    \n",
    "    return model"
   ]
  },
  {
   "cell_type": "markdown",
   "metadata": {},
   "source": [
    "## Free Fermion"
   ]
  },
  {
   "cell_type": "markdown",
   "metadata": {},
   "source": [
    "### Generate Benchmarks"
   ]
  },
  {
   "cell_type": "code",
   "execution_count": 3,
   "metadata": {},
   "outputs": [],
   "source": [
    "n = 4\n",
    "d = 2**n\n",
    "\n",
    "[channel_FF_list, spectra_FF_list, csr_FF_list] =  loader(\"data/FF_synthetic_benchmark.pkl\")"
   ]
  },
  {
   "cell_type": "markdown",
   "metadata": {},
   "source": [
    "### Generate Synthetic Data and Fit"
   ]
  },
  {
   "cell_type": "code",
   "execution_count": 4,
   "metadata": {},
   "outputs": [
    {
     "data": {
      "application/vnd.jupyter.widget-view+json": {
       "model_id": "4ab01f88554642c3a1890565470b909c",
       "version_major": 2,
       "version_minor": 0
      },
      "text/plain": [
       "  0%|          | 0/10 [00:00<?, ?it/s]"
      ]
     },
     "metadata": {},
     "output_type": "display_data"
    },
    {
     "data": {
      "application/vnd.jupyter.widget-view+json": {
       "model_id": "36f698d5ddaa42f58f1c397cfdb4ed46",
       "version_major": 2,
       "version_minor": 0
      },
      "text/plain": [
       "  0%|          | 0/10 [00:00<?, ?it/s]"
      ]
     },
     "metadata": {},
     "output_type": "display_data"
    },
    {
     "name": "stdout",
     "output_type": "stream",
     "text": [
      "[0.9972453382065255, -0.9895525462890887]\n",
      "[0.9972559505373514, -0.9900624070568305]\n",
      "[0.9972929323795786, -0.989088689883409]\n",
      "[0.997265329307438, -0.9896801060403454]\n",
      "[0.9972989942058017, -0.9901588922030107]\n",
      "[0.9972584772284604, -0.9899666552745838]\n",
      "[0.9972883448184904, -0.990237312355385]\n",
      "[0.9972641934610764, -0.9897628269669766]\n",
      "[0.9972509803841384, -0.9899946625367713]\n",
      "[0.9972807597990212, -0.9894718786980997]\n"
     ]
    }
   ],
   "source": [
    "np.random.seed(42)\n",
    "random.seed(42)\n",
    "tf.random.set_seed(42)\n",
    "bs_samples = 10\n",
    "\n",
    "for i, channel in tqdm(list(enumerate(channel_FF_list))):\n",
    "    if i > 8:\n",
    "        model_list = []\n",
    "\n",
    "        spam_target = generate_spam_benchmark(n=4, c1=0.95, c2=0.95, type=\"CM\")\n",
    "        inputs_spam, targets_spam = generate_spam_data(spam_target, shots=12000)\n",
    "\n",
    "        inputs_map, targets_map = generate_map_data(channel, \n",
    "                                                    spam_target = spam_target,\n",
    "                                                    N_map=5000-6**n, \n",
    "                                                    shots = 12000)\n",
    "\n",
    "\n",
    "        for bs in tqdm(range(bs_samples)):\n",
    "            targets_spam_bs = resample(targets_spam, 12000)\n",
    "            targets_map_bs = resample(targets_map, 12000)\n",
    "            \n",
    "            spam_model = fit_spam(inputs_spam,\n",
    "                                targets_spam_bs,\n",
    "                                num_iter = 3000,\n",
    "                                verbose = False)\n",
    "                \n",
    "\n",
    "            model = fit_model(inputs_map,\n",
    "                            targets_map_bs,\n",
    "                            channel,\n",
    "                            spam_model,\n",
    "                            num_iter = 3000,\n",
    "                            verbose = False\n",
    "                            )\n",
    "\n",
    "            model_list.append(model)\n",
    "\n",
    "        model_saver(model_list, f\"models/FF_bootstrap_{i}.model\")\n"
   ]
  },
  {
   "cell_type": "markdown",
   "metadata": {},
   "source": [
    "## Chaotic Haar Random"
   ]
  },
  {
   "cell_type": "markdown",
   "metadata": {},
   "source": [
    "### Generate Benchmarks"
   ]
  },
  {
   "cell_type": "code",
   "execution_count": 7,
   "metadata": {},
   "outputs": [],
   "source": [
    "n = 4\n",
    "d = 2**n\n",
    "\n",
    "[channel_chaotic_list, spectra_chaotic_list, csr_chaotic_list] =  loader(\"data/chaotic_synthetic_benchmark.pkl\")"
   ]
  },
  {
   "cell_type": "markdown",
   "metadata": {},
   "source": [
    "### Generate Synthetic Data and Fit"
   ]
  },
  {
   "cell_type": "code",
   "execution_count": 8,
   "metadata": {},
   "outputs": [
    {
     "data": {
      "application/vnd.jupyter.widget-view+json": {
       "model_id": "4975843837c546c6ab9b1672448b9ef8",
       "version_major": 2,
       "version_minor": 0
      },
      "text/plain": [
       "  0%|          | 0/10 [00:00<?, ?it/s]"
      ]
     },
     "metadata": {},
     "output_type": "display_data"
    },
    {
     "data": {
      "application/vnd.jupyter.widget-view+json": {
       "model_id": "882de320171a4cbcba9f97649509d871",
       "version_major": 2,
       "version_minor": 0
      },
      "text/plain": [
       "  0%|          | 0/10 [00:00<?, ?it/s]"
      ]
     },
     "metadata": {},
     "output_type": "display_data"
    },
    {
     "name": "stdout",
     "output_type": "stream",
     "text": [
      "[0.9936199917776504, -0.9860866101741259]\n",
      "[0.9936288340466856, -0.9868338079060498]\n",
      "[0.9936277657343732, -0.9853946977711365]\n",
      "[0.9936297590560923, -0.9862237097412877]\n",
      "[0.9936903483682091, -0.9862750106809443]\n",
      "[0.9935552532151936, -0.9861729919068993]\n",
      "[0.9937024686093543, -0.9860160216441454]\n",
      "[0.9936009906195824, -0.9855669281526243]\n",
      "[0.9935979955359504, -0.9867304268818546]\n",
      "[0.9936908306854039, -0.9855037512157829]\n"
     ]
    },
    {
     "data": {
      "application/vnd.jupyter.widget-view+json": {
       "model_id": "5dd1b4e14be04fba9b49dd2aedb984bd",
       "version_major": 2,
       "version_minor": 0
      },
      "text/plain": [
       "  0%|          | 0/10 [00:00<?, ?it/s]"
      ]
     },
     "metadata": {},
     "output_type": "display_data"
    },
    {
     "name": "stdout",
     "output_type": "stream",
     "text": [
      "[0.9934327294403668, -0.984453758267463]\n",
      "[0.9935015761344449, -0.9852636483515333]\n",
      "[0.9935348297273354, -0.9853564761300662]\n",
      "[0.9934765720660532, -0.9853481289556578]\n",
      "[0.99346412284834, -0.9855078086425194]\n",
      "[0.9935142445225605, -0.9859027842116544]\n",
      "[0.9934738932678419, -0.9855495192320419]\n",
      "[0.99355224855667, -0.9860409101889029]\n",
      "[0.9934576990654285, -0.9852399616981451]\n",
      "[0.9935108573121362, -0.9853835143841787]\n"
     ]
    },
    {
     "data": {
      "application/vnd.jupyter.widget-view+json": {
       "model_id": "432d27c12a62414ab4196dc97713641a",
       "version_major": 2,
       "version_minor": 0
      },
      "text/plain": [
       "  0%|          | 0/10 [00:00<?, ?it/s]"
      ]
     },
     "metadata": {},
     "output_type": "display_data"
    },
    {
     "name": "stdout",
     "output_type": "stream",
     "text": [
      "[0.9935846155438701, -0.9865358722906676]\n",
      "[0.9935682085083164, -0.9859131302776905]\n",
      "[0.9935550332436763, -0.986224970937649]\n",
      "[0.9935803853264262, -0.9865408321419462]\n",
      "[0.9935478893237463, -0.985774474723154]\n",
      "[0.9934994188089303, -0.9865531959208677]\n",
      "[0.9935381101769087, -0.9852039946262473]\n",
      "[0.9935433999240536, -0.9869270184006546]\n",
      "[0.9935483639685502, -0.9862782681109832]\n",
      "[0.9935097536247324, -0.9857519818843182]\n"
     ]
    },
    {
     "data": {
      "application/vnd.jupyter.widget-view+json": {
       "model_id": "22189717b4574665bc9f69816b891c9a",
       "version_major": 2,
       "version_minor": 0
      },
      "text/plain": [
       "  0%|          | 0/10 [00:00<?, ?it/s]"
      ]
     },
     "metadata": {},
     "output_type": "display_data"
    },
    {
     "name": "stdout",
     "output_type": "stream",
     "text": [
      "[0.9935928955637826, -0.9854332367151167]\n",
      "[0.9936421463848943, -0.9851942562718363]\n",
      "[0.9935939699218971, -0.9854232015315184]\n",
      "[0.9935079931234553, -0.985764238830421]\n",
      "[0.9935305405300213, -0.9857628684270895]\n",
      "[0.9935889737995248, -0.9851397945006134]\n",
      "[0.9935787761857082, -0.9853063286095012]\n",
      "[0.9934960319888891, -0.9848718755388286]\n",
      "[0.9936480295388842, -0.9845687761701798]\n",
      "[0.9935824291123245, -0.9858652931429116]\n"
     ]
    },
    {
     "data": {
      "application/vnd.jupyter.widget-view+json": {
       "model_id": "09d07afb4afb4d31b43ce242a42d59c5",
       "version_major": 2,
       "version_minor": 0
      },
      "text/plain": [
       "  0%|          | 0/10 [00:00<?, ?it/s]"
      ]
     },
     "metadata": {},
     "output_type": "display_data"
    },
    {
     "name": "stdout",
     "output_type": "stream",
     "text": [
      "[0.993480160614772, -0.9851900297042487]\n",
      "[0.99342616187697, -0.9853016071965265]\n",
      "[0.9935215711961177, -0.9851566428727492]\n",
      "[0.993564822925072, -0.9852523460731192]\n",
      "[0.9935359809548557, -0.9859669003362739]\n",
      "[0.9935911155391844, -0.9857902180495536]\n",
      "[0.9934689020930434, -0.9854040548852452]\n",
      "[0.9935470834673676, -0.9852806350415095]\n",
      "[0.9935637292933099, -0.9848228380618124]\n",
      "[0.9935721865486432, -0.9848902244340478]\n"
     ]
    },
    {
     "data": {
      "application/vnd.jupyter.widget-view+json": {
       "model_id": "09ff2f8133c44a3c8a507b5cde9a150d",
       "version_major": 2,
       "version_minor": 0
      },
      "text/plain": [
       "  0%|          | 0/10 [00:00<?, ?it/s]"
      ]
     },
     "metadata": {},
     "output_type": "display_data"
    },
    {
     "name": "stdout",
     "output_type": "stream",
     "text": [
      "[0.9935899958656051, -0.9849264151925575]\n",
      "[0.9936410391631829, -0.9853392896133066]\n",
      "[0.9935507183191014, -0.9849747326131457]\n",
      "[0.9936999889248057, -0.9849468312927092]\n",
      "[0.9936461954801478, -0.9849194100011502]\n",
      "[0.9937012428885673, -0.9849157296306805]\n",
      "[0.9935990904916631, -0.9844323883824944]\n",
      "[0.9935609567564547, -0.9851278361579032]\n",
      "[0.9936299096104658, -0.9853903399451891]\n",
      "[0.9937119316573292, -0.9853268999339804]\n"
     ]
    },
    {
     "data": {
      "application/vnd.jupyter.widget-view+json": {
       "model_id": "0c52068da0ad45d086f45d965c3a2c8c",
       "version_major": 2,
       "version_minor": 0
      },
      "text/plain": [
       "  0%|          | 0/10 [00:00<?, ?it/s]"
      ]
     },
     "metadata": {},
     "output_type": "display_data"
    },
    {
     "name": "stdout",
     "output_type": "stream",
     "text": [
      "[0.9936253004958568, -0.9846929081644596]\n",
      "[0.9936130353969075, -0.9858073892689863]\n",
      "[0.9935510220846632, -0.9857882690352331]\n",
      "[0.9935934296048643, -0.9855900016791115]\n",
      "[0.9936614659632351, -0.985423205382599]\n",
      "[0.9935842741144435, -0.9858742455024997]\n",
      "[0.9936000518768823, -0.985037904725082]\n",
      "[0.9935809778812461, -0.9852699834017721]\n",
      "[0.9935908143634103, -0.9857492379798888]\n",
      "[0.9935709765747106, -0.9850858093895303]\n"
     ]
    },
    {
     "data": {
      "application/vnd.jupyter.widget-view+json": {
       "model_id": "269ad6395f534d82b27130a337bb9bc2",
       "version_major": 2,
       "version_minor": 0
      },
      "text/plain": [
       "  0%|          | 0/10 [00:00<?, ?it/s]"
      ]
     },
     "metadata": {},
     "output_type": "display_data"
    },
    {
     "name": "stdout",
     "output_type": "stream",
     "text": [
      "[0.9935979522406784, -0.9858116302708468]\n",
      "[0.9935782542578038, -0.9859559781112794]\n",
      "[0.9936309008490084, -0.9853496345167394]\n",
      "[0.993573115899992, -0.9853467875723465]\n",
      "[0.9936144145159345, -0.985340904230346]\n",
      "[0.9935784012573334, -0.98525746268026]\n",
      "[0.993591967591361, -0.9856664233030485]\n",
      "[0.9935804545345016, -0.9855343269467817]\n",
      "[0.9935960052802247, -0.984981358284573]\n",
      "[0.9936282740910379, -0.9861238310652074]\n"
     ]
    },
    {
     "data": {
      "application/vnd.jupyter.widget-view+json": {
       "model_id": "50f9f5268f4d43f0ba6abe82ce921062",
       "version_major": 2,
       "version_minor": 0
      },
      "text/plain": [
       "  0%|          | 0/10 [00:00<?, ?it/s]"
      ]
     },
     "metadata": {},
     "output_type": "display_data"
    },
    {
     "name": "stdout",
     "output_type": "stream",
     "text": [
      "[0.9935452685940963, -0.984959743370851]\n",
      "[0.9935294647117412, -0.9859135608019839]\n",
      "[0.9936405944821257, -0.985575117281238]\n",
      "[0.9935796292942948, -0.9857953916789826]\n",
      "[0.99350731062461, -0.9850063415469745]\n",
      "[0.9935555725511646, -0.9855280626265062]\n",
      "[0.9935408837171561, -0.9856289707836488]\n",
      "[0.9935675149587735, -0.985528121106157]\n",
      "[0.9935114884341419, -0.9852445721215055]\n",
      "[0.9935183009235826, -0.9860177784344236]\n"
     ]
    },
    {
     "data": {
      "application/vnd.jupyter.widget-view+json": {
       "model_id": "24ab0eaa7e8f4b029ee4cf0fffa27e2b",
       "version_major": 2,
       "version_minor": 0
      },
      "text/plain": [
       "  0%|          | 0/10 [00:00<?, ?it/s]"
      ]
     },
     "metadata": {},
     "output_type": "display_data"
    },
    {
     "name": "stdout",
     "output_type": "stream",
     "text": [
      "[0.9935283921419641, -0.9860645864214027]\n",
      "[0.9935050634365632, -0.9858294954562774]\n",
      "[0.9934909127451294, -0.9855355583168887]\n",
      "[0.9935814526978526, -0.985433092655006]\n",
      "[0.9934043025375839, -0.985346455034373]\n",
      "[0.9935079253245271, -0.9859516850733513]\n",
      "[0.9934882016976522, -0.9857821501222743]\n",
      "[0.9933701353149337, -0.9853485499335699]\n",
      "[0.9934977884254286, -0.9850966339681981]\n",
      "[0.9935475406503004, -0.9853545284206426]\n"
     ]
    }
   ],
   "source": [
    "np.random.seed(42)\n",
    "random.seed(42)\n",
    "tf.random.set_seed(42)\n",
    "bs_samples = 10\n",
    "\n",
    "for i, channel in tqdm(list(enumerate(channel_chaotic_list))):\n",
    "    model_list = []\n",
    "\n",
    "    spam_target = generate_spam_benchmark(n=4, c1=0.95, c2=0.95, type=\"CM\")\n",
    "    inputs_spam, targets_spam = generate_spam_data(spam_target, shots=12000)\n",
    "\n",
    "    inputs_map, targets_map = generate_map_data(channel, \n",
    "                                                spam_target = spam_target,\n",
    "                                                N_map=5000-6**n, \n",
    "                                                shots = 12000)\n",
    "\n",
    "\n",
    "    for bs in tqdm(range(bs_samples)):\n",
    "        targets_spam_bs = resample(targets_spam, 12000)\n",
    "        targets_map_bs = resample(targets_map, 12000)\n",
    "        \n",
    "        spam_model = fit_spam(inputs_spam,\n",
    "                            targets_spam_bs,\n",
    "                            num_iter = 3000,\n",
    "                            verbose = False)\n",
    "\n",
    "        model = fit_model(inputs_map,\n",
    "                        targets_map_bs,\n",
    "                        channel,\n",
    "                        spam_model,\n",
    "                        num_iter = 3000,\n",
    "                        verbose = False\n",
    "                        )\n",
    "\n",
    "        model_list.append(model)\n",
    "\n",
    "    model_saver(model_list, f\"models/chaotic_bootstrap_{i}.model\")\n"
   ]
  }
 ],
 "metadata": {
  "kernelspec": {
   "display_name": "env_phd",
   "language": "python",
   "name": "python3"
  },
  "language_info": {
   "codemirror_mode": {
    "name": "ipython",
    "version": 3
   },
   "file_extension": ".py",
   "mimetype": "text/x-python",
   "name": "python",
   "nbconvert_exporter": "python",
   "pygments_lexer": "ipython3",
   "version": "3.10.13"
  }
 },
 "nbformat": 4,
 "nbformat_minor": 4
}
