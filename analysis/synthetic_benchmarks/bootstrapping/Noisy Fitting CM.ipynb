{
 "cells": [
  {
   "attachments": {},
   "cell_type": "markdown",
   "metadata": {},
   "source": [
    "# FF Convergence"
   ]
  },
  {
   "cell_type": "code",
   "execution_count": null,
   "metadata": {},
   "outputs": [],
   "source": [
    "import sys\n",
    "sys.path.insert(0, '../../src/')\n",
    "\n",
    "import numpy as np\n",
    "import qiskit as qk\n",
    "import matplotlib.pyplot as plt\n",
    "import multiprocessing as mp\n",
    "import tensorflow as tf\n",
    "import random\n",
    "import pickle as pkl\n",
    "\n",
    "from qiskit.quantum_info import Operator, Statevector, random_unitary\n",
    "from scipy.linalg import sqrtm\n",
    "from tqdm.notebook import tqdm\n",
    "from math import ceil\n",
    "\n",
    "from quantum_tools import circuit_to_matrix, partial_trace\n",
    "from kraus_channels import isomery_to_kraus, KrausMap\n",
    "from quantum_channel import ConcatChannel, DilutedChannel, IdentityChannel, ChoiMapStatic\n",
    "from utils import numberToBase, kron\n",
    "from spectrum import complex_spacing_ratio, channel_spectrum, Spectrum, mean_spacing, coat_spectrum\n",
    "from analysis import spectrum_to_angular, spectrum_to_radial, hist_ensamble\n",
    "from qiskit.circuit.library import iSwapGate, XGate, YGate, HGate, CXGate, RGate, RZGate\n",
    "from quantum_circuits import integrable_circuit, nonintegrable_circuit, haar_random\n",
    "from synthetic_data import generate_map_data, generate_spam_data, generate_spam_benchmark\n",
    "from optimization import ModelQuantumMap, ModelSPAM, Logger, model_saver\n",
    "from loss_functions import ProbabilityMSE, ProbabilityRValue, channel_fidelity_loss\n",
    "from spam import SPAM, InitialState, POVMwQR as POVM, CorruptionMatrix\n",
    "\n",
    "#np.set_printoptions(threshold=sys.maxsize)\n",
    "np.set_printoptions(precision=1)\n",
    "\n",
    "import os\n",
    "os.environ[\"CUDA_VISIBLE_DEVICES\"] = \"-1\"\n",
    "tf.compat.v1.logging.set_verbosity(tf.compat.v1.logging.ERROR)\n"
   ]
  },
  {
   "cell_type": "markdown",
   "metadata": {},
   "source": [
    "## Circuits"
   ]
  },
  {
   "cell_type": "code",
   "execution_count": 2,
   "metadata": {},
   "outputs": [],
   "source": [
    "def sample_traceout_csr(n, n_anc, reps, circuit_type, L):\n",
    "    channel_list = []\n",
    "    spectra_list = []\n",
    "    csr_list = []\n",
    "\n",
    "\n",
    "    for _ in tqdm(range(reps)):\n",
    "        circuit = circuit_type(n+n_anc, L)\n",
    "        U = Operator(circuit).data\n",
    "\n",
    "        kraus_map = isomery_to_kraus(U, rank = 2**n_anc)\n",
    "        channel_list.append(kraus_map)\n",
    "        \n",
    "        spectrum = channel_spectrum(kraus_map)\n",
    "        spectra_list.append(spectrum)\n",
    "        csr = complex_spacing_ratio(spectrum, log=False)\n",
    "        csr_list.append(csr)\n",
    "\n",
    "    return  channel_list, spectra_list, csr_list"
   ]
  },
  {
   "cell_type": "code",
   "execution_count": 3,
   "metadata": {},
   "outputs": [],
   "source": [
    "def fit_spam(inputs, \n",
    "             targets,\n",
    "             num_iter = 3000,\n",
    "             verbose = False):\n",
    "    d = targets.shape[1]\n",
    "    spam_model = SPAM(init = InitialState(d),\n",
    "                    povm = CorruptionMatrix(d),\n",
    "                    )\n",
    "\n",
    "    spam_opt = ModelSPAM(spam_model, tf.keras.optimizers.Adam(learning_rate=0.01))\n",
    "        \n",
    "    spam_opt.pretrain(100, verbose=False)\n",
    "\n",
    "    spam_opt.train(inputs = inputs,\n",
    "                    targets = targets,\n",
    "                    num_iter = num_iter,\n",
    "                    verbose = verbose,\n",
    "                )\n",
    "    \n",
    "    return spam_model\n",
    "    \n",
    "\n",
    "def fit_model(inputs, \n",
    "              targets,\n",
    "              channel, \n",
    "              spam_model,\n",
    "              num_iter = 3000,\n",
    "              verbose=False):\n",
    "    d = targets.shape[1]\n",
    "    model = ModelQuantumMap(channel = KrausMap(d = d, \n",
    "                                        rank = d**2,\n",
    "                                        spam = spam_model,\n",
    "                                        ),\n",
    "                    loss_function = ProbabilityMSE(),\n",
    "                    optimizer = tf.optimizers.Adam(learning_rate=0.01),\n",
    "                    logger = Logger(loss_function_list = [ProbabilityRValue(), channel_fidelity_loss], sample_freq=100),\n",
    "                )\n",
    "    model.train(inputs = inputs, \n",
    "                targets = targets,\n",
    "                inputs_val = [inputs, None],\n",
    "                targets_val = [targets, [channel]],\n",
    "                N=500,\n",
    "                num_iter = num_iter,\n",
    "                verbose = verbose,)\n",
    "    \n",
    "    return model"
   ]
  },
  {
   "cell_type": "markdown",
   "metadata": {},
   "source": [
    "## Free Fermion"
   ]
  },
  {
   "cell_type": "markdown",
   "metadata": {},
   "source": [
    "### Generate Benchmarks"
   ]
  },
  {
   "cell_type": "code",
   "execution_count": 4,
   "metadata": {},
   "outputs": [],
   "source": [
    "n = 4\n",
    "d = 2**n\n",
    "\n",
    "[channel_FF_list, spectra_FF_list, csr_FF_list] =  pkl.load(open(\"data/FF_synthetic_benchmark.pkl\", \"rb\"))"
   ]
  },
  {
   "cell_type": "markdown",
   "metadata": {},
   "source": [
    "### Generate Synthetic Data and Fit"
   ]
  },
  {
   "cell_type": "code",
   "execution_count": 6,
   "metadata": {},
   "outputs": [
    {
     "name": "stdout",
     "output_type": "stream",
     "text": [
      "[0.9982621312852501, -0.9919559407258679]\n",
      "[0.9987375936058006, -0.9914119402463746]\n",
      "[0.9985503248464884, -0.9907353427403264]\n",
      "[0.9983694085611405, -0.9905779173073676]\n",
      "[0.9984765570573038, -0.9904009441808769]\n",
      "[0.9985748334355564, -0.9908344718742901]\n",
      "[0.9987045634317373, -0.9930763577160264]\n",
      "[0.9984768021404866, -0.9907860328058737]\n",
      "[0.9985264523953767, -0.9913003339344654]\n",
      "[0.998617267195537, -0.9923528951276096]\n"
     ]
    }
   ],
   "source": [
    "model_list = []\n",
    "\n",
    "np.random.seed(42)\n",
    "random.seed(42)\n",
    "tf.random.set_seed(42)\n",
    "\n",
    "for channel in channel_FF_list:\n",
    "    \n",
    "    spam_target = generate_spam_benchmark(n=4, c1=0.95, c2=0.95, type=\"CM\")\n",
    "    inputs_spam, targets_spam = generate_spam_data(spam_target, shots=12000)\n",
    "    \n",
    "    spam_model = fit_spam(inputs_spam,\n",
    "                        targets_spam,\n",
    "                        num_iter = 3000,\n",
    "                        verbose = False)\n",
    "        \n",
    "\n",
    "    inputs_map, targets_map = generate_map_data(channel, \n",
    "                                                spam_target = spam_target,\n",
    "                                                N_map=5000-6**n, \n",
    "                                                shots = 12000)\n",
    "\n",
    "    model = fit_model(inputs_map,\n",
    "                    targets_map,\n",
    "                    channel,\n",
    "                    spam_model,\n",
    "                    num_iter = 3000,\n",
    "                    verbose = False\n",
    "                    )\n",
    "\n",
    "    model_list.append(model)\n",
    "\n",
    "model_saver(model_list, \"model_list_FF_noisy_CM.model\")\n"
   ]
  },
  {
   "cell_type": "markdown",
   "metadata": {},
   "source": [
    "## Chaotic Haar Random"
   ]
  },
  {
   "cell_type": "markdown",
   "metadata": {},
   "source": [
    "### Generate Benchmarks"
   ]
  },
  {
   "cell_type": "code",
   "execution_count": 7,
   "metadata": {},
   "outputs": [],
   "source": [
    "n = 4\n",
    "d = 2**n\n",
    "\n",
    "[channel_FF_list, spectra_FF_list, csr_FF_list] =  pkl.load(open(\"data/chaotic_synthetic_benchmark.pkl\", \"rb\"))"
   ]
  },
  {
   "cell_type": "markdown",
   "metadata": {},
   "source": [
    "### Generate Synthetic Data and Fit"
   ]
  },
  {
   "cell_type": "code",
   "execution_count": 8,
   "metadata": {},
   "outputs": [
    {
     "data": {
      "application/vnd.jupyter.widget-view+json": {
       "model_id": "5c3df3bb217643c3a6ecc317fb7cb447",
       "version_major": 2,
       "version_minor": 0
      },
      "text/plain": [
       "  0%|          | 0/10 [00:00<?, ?it/s]"
      ]
     },
     "metadata": {},
     "output_type": "display_data"
    },
    {
     "name": "stdout",
     "output_type": "stream",
     "text": [
      "[0.9967181468494726, -0.9905640283894421]\n",
      "[0.9967301312402701, -0.990079985274731]\n",
      "[0.9967328910180139, -0.9894055567053933]\n",
      "[0.9967043309374316, -0.9895504087863298]\n",
      "[0.9967388338632779, -0.9899128472374944]\n",
      "[0.9967579112387046, -0.9893929443952535]\n",
      "[0.9967750304003491, -0.9897060976276444]\n",
      "[0.9967763435376749, -0.989736536429881]\n",
      "[0.9967683393860595, -0.9897327718678064]\n",
      "[0.996668075381639, -0.9905561819911752]\n"
     ]
    }
   ],
   "source": [
    "model_list = []\n",
    "\n",
    "np.random.seed(42)\n",
    "random.seed(42)\n",
    "tf.random.set_seed(42)\n",
    "\n",
    "for channel in tqdm(channel_FF_list):\n",
    "    \n",
    "    spam_target = generate_spam_benchmark(n=4, c1=0.95, c2=0.95, type=\"CM\")\n",
    "    inputs_spam, targets_spam = generate_spam_data(spam_target, shots=12000)\n",
    "    \n",
    "    spam_model = fit_spam(inputs_spam,\n",
    "                        targets_spam,\n",
    "                        num_iter = 3000,\n",
    "                        verbose = False)\n",
    "        \n",
    "\n",
    "    inputs_map, targets_map = generate_map_data(channel, \n",
    "                                                spam_target = spam_target,\n",
    "                                                N_map=5000-6**n, \n",
    "                                                shots = 12000)\n",
    "\n",
    "    model = fit_model(inputs_map,\n",
    "                    targets_map,\n",
    "                    channel,\n",
    "                    spam_model,\n",
    "                    num_iter = 3000,\n",
    "                    verbose = False\n",
    "                    )\n",
    "\n",
    "    model_list.append(model)\n",
    "\n",
    "model_saver(model_list, \"model_list_chaotic_noisy_CM.model\")\n"
   ]
  }
 ],
 "metadata": {
  "kernelspec": {
   "display_name": "env_qiskit",
   "language": "python",
   "name": "python3"
  },
  "language_info": {
   "codemirror_mode": {
    "name": "ipython",
    "version": 3
   },
   "file_extension": ".py",
   "mimetype": "text/x-python",
   "name": "python",
   "nbconvert_exporter": "python",
   "pygments_lexer": "ipython3",
   "version": "3.10.4"
  }
 },
 "nbformat": 4,
 "nbformat_minor": 4
}
