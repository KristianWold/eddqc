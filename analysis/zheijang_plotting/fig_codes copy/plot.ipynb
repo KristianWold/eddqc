{
 "cells": [
  {
   "cell_type": "code",
   "execution_count": 1,
   "metadata": {},
   "outputs": [
    {
     "name": "stdout",
     "output_type": "stream",
     "text": [
      "data.max() > vmax, the plotting result can be misleading\n",
      "data.max() > vmax, the plotting result can be misleading\n",
      "Saved  fig1.pdf\n"
     ]
    }
   ],
   "source": [
    "%matplotlib inline\n",
    "import plot_fig1\n",
    "plot_fig1.plot_all(save=True)"
   ]
  },
  {
   "cell_type": "code",
   "execution_count": 6,
   "metadata": {},
   "outputs": [
    {
     "name": "stdout",
     "output_type": "stream",
     "text": [
      "data.max() > vmax, the plotting result can be misleading\n",
      "data.max() > vmax, the plotting result can be misleading\n",
      "Saved  fig2.pdf\n"
     ]
    }
   ],
   "source": [
    "import plot_fig2\n",
    "plot_fig2.plot_all(save=True)"
   ]
  },
  {
   "cell_type": "code",
   "execution_count": 7,
   "metadata": {},
   "outputs": [
    {
     "name": "stdout",
     "output_type": "stream",
     "text": [
      "data.max() > vmax, the plotting result can be misleading\n",
      "data.max() > vmax, the plotting result can be misleading\n",
      "data.max() > vmax, the plotting result can be misleading\n",
      "Saved  fig3_v4.pdf\n"
     ]
    }
   ],
   "source": [
    "import plot_fig3_v4\n",
    "plot_fig3_v4.plot_all(save=True)"
   ]
  }
 ],
 "metadata": {
  "kernelspec": {
   "display_name": "env_phd",
   "language": "python",
   "name": "python3"
  },
  "language_info": {
   "codemirror_mode": {
    "name": "ipython",
    "version": 3
   },
   "file_extension": ".py",
   "mimetype": "text/x-python",
   "name": "python",
   "nbconvert_exporter": "python",
   "pygments_lexer": "ipython3",
   "version": "3.10.13"
  }
 },
 "nbformat": 4,
 "nbformat_minor": 2
}
