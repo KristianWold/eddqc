{
 "cells": [
  {
   "attachments": {},
   "cell_type": "markdown",
   "metadata": {},
   "source": [
    "# Bootstrap, L=50"
   ]
  },
  {
   "cell_type": "code",
   "execution_count": null,
   "metadata": {},
   "outputs": [
    {
     "name": "stdout",
     "output_type": "stream",
     "text": [
      "WARNING:tensorflow:From C:\\Users\\krist\\AppData\\Local\\Temp\\ipykernel_31652\\2695840095.py:37: The name tf.logging.set_verbosity is deprecated. Please use tf.compat.v1.logging.set_verbosity instead.\n",
      "\n"
     ]
    }
   ],
   "source": [
    "import sys\n",
    "sys.path.insert(0, '../../src/')\n",
    "\n",
    "import numpy as np\n",
    "import pickle as pkl\n",
    "import tensorflow as tf\n",
    "\n",
    "from qiskit.quantum_info import Operator\n",
    "\n",
    "from kraus_channels import KrausMap\n",
    "from loss_functions import ProbabilityMSE, ProbabilityRValue\n",
    "from optimization import ModelSPAM, ModelQuantumMap, Logger, model_saver\n",
    "\n",
    "from quantum_tools import  resample\n",
    "from experimental import counts_to_probs, generate_pauliInput_circuits, generate_pauli_circuits, marginalize_counts\n",
    "from spam import SPAM, InitialState, CorruptionMatrix\n",
    "from quantum_circuits import integrable_circuit\n",
    "\n",
    "\n",
    "#np.set_printoptions(threshold=sys.maxsize)\n",
    "np.set_printoptions(precision=4)\n",
    "\n",
    "import os\n",
    "os.environ[\"CUDA_VISIBLE_DEVICES\"] = \"-1\"\n",
    "tf.compat.v1.logging.set_verbosity(tf.compat.v1.logging.ERROR)"
   ]
  },
  {
   "cell_type": "code",
   "execution_count": 2,
   "metadata": {},
   "outputs": [],
   "source": [
    "def load_data(filename, n, seed, L):\n",
    "    with open(filename, 'rb') as f:\n",
    "        data = pkl.load(f)\n",
    "\n",
    "\n",
    "    data = marginalize_counts(data, 0)\n",
    "\n",
    "    targets = counts_to_probs(data)\n",
    "    targets_spam = targets[:6**n]\n",
    "    targets_map = targets[6**n:]\n",
    "\n",
    "    np.random.seed(seed)\n",
    "    \n",
    "    circuit_target = integrable_circuit(n+1, L)\n",
    "    unitary = Operator(circuit_target).data\n",
    "\n",
    "    inputs_spam, _ = generate_pauliInput_circuits(n)\n",
    "        \n",
    "    inputs_map, circuit_list_map = (\n",
    "                generate_pauli_circuits(n, None, N=5000-6**n)\n",
    "        )\n",
    "    \n",
    "    return inputs_spam, targets_spam, inputs_map, targets_map, unitary\n",
    "\n",
    "def fit_spam(inputs, \n",
    "             targets,\n",
    "             num_iter = 3000,\n",
    "             verbose = False):\n",
    "    d = targets.shape[1]\n",
    "    spam_model = SPAM(init = InitialState(d),\n",
    "                    povm = CorruptionMatrix(d),\n",
    "                    )\n",
    "\n",
    "    spam_opt = ModelSPAM(spam_model, tf.keras.optimizers.Adam(learning_rate=0.01))\n",
    "        \n",
    "    spam_opt.pretrain(100, verbose=False)\n",
    "\n",
    "    spam_opt.train(inputs = inputs,\n",
    "                    targets = targets,\n",
    "                    num_iter = num_iter,\n",
    "                    verbose = verbose,\n",
    "                )\n",
    "    \n",
    "    return spam_model\n",
    "    \n",
    "\n",
    "def fit_model(inputs, \n",
    "              targets, \n",
    "              spam_model,\n",
    "              num_iter = 3000,\n",
    "              verbose=False):\n",
    "    d = targets.shape[1]\n",
    "    model = ModelQuantumMap(channel = KrausMap(d = d, \n",
    "                                        rank = d**2,\n",
    "                                        spam = spam_model,\n",
    "                                        ),\n",
    "                    loss_function = ProbabilityMSE(),\n",
    "                    optimizer = tf.optimizers.Adam(learning_rate=0.01),\n",
    "                    logger = Logger(loss_function_list = [ProbabilityRValue()], sample_freq=100),\n",
    "                )\n",
    "\n",
    "    model.train(inputs = inputs,\n",
    "                targets = targets,\n",
    "                inputs_val = [inputs],\n",
    "                targets_val = [targets],\n",
    "                num_iter = num_iter,\n",
    "                N = 500,\n",
    "                verbose=verbose\n",
    "                )\n",
    "    \n",
    "    return model"
   ]
  },
  {
   "cell_type": "code",
   "execution_count": 3,
   "metadata": {},
   "outputs": [
    {
     "data": {
      "application/vnd.jupyter.widget-view+json": {
       "model_id": "9da98c9eb7484e41a8e1d701d70bf3dc",
       "version_major": 2,
       "version_minor": 0
      },
      "text/plain": [
       "  0%|          | 0/1 [00:00<?, ?it/s]"
      ]
     },
     "metadata": {},
     "output_type": "display_data"
    },
    {
     "data": {
      "application/vnd.jupyter.widget-view+json": {
       "model_id": "d4bf166302ed4d558c2a9037cc6a2746",
       "version_major": 2,
       "version_minor": 0
      },
      "text/plain": [
       "  0%|          | 0/10 [00:00<?, ?it/s]"
      ]
     },
     "metadata": {},
     "output_type": "display_data"
    },
    {
     "name": "stdout",
     "output_type": "stream",
     "text": [
      "[0.985866455489833]\n",
      "[0.9857717550184343]\n",
      "[0.9857899450470606]\n",
      "[0.9857516305267]\n",
      "[0.9857492420310363]\n",
      "[0.9856595754800466]\n",
      "[0.9856262315511302]\n",
      "[0.9857616321256596]\n",
      "[0.9857193414868738]\n",
      "[0.9857832545151833]\n"
     ]
    }
   ],
   "source": [
    "path = '../data/chaos_exp_reorder/5q/integrable_L=50/'\n",
    "n = 4\n",
    "d = 2**n\n",
    "L = 50\n",
    "bootstrap_samples = 10\n",
    "\n",
    "for i in tqdm(range(9, 10)):\n",
    "\n",
    "    spam_list = []\n",
    "    model_list = []\n",
    "\n",
    "    seed = 42 + i\n",
    "\n",
    "    inputs_spam, targets_spam, inputs_map, targets_map, unitary = load_data(path + f'seed_{seed}.pkl', n, seed, L)\n",
    "\n",
    "    tf.random.set_seed(seed)\n",
    "    for j in tqdm(range(bootstrap_samples)):\n",
    "        targets_spam_bs = resample(targets_spam, 12000)\n",
    "        targets_map_bs = resample(targets_map, 12000)\n",
    "\n",
    "        spam_model = fit_spam(inputs_spam, targets_spam_bs, verbose=False)\n",
    "        spam_list.append(spam_model) \n",
    "\n",
    "\n",
    "        model = fit_model(inputs_map, \n",
    "                        targets_map_bs, \n",
    "                        spam_model,\n",
    "                        num_iter = 3000, \n",
    "                        verbose=False)\n",
    "        model_list.append(model)\n",
    "\n",
    "\n",
    "    model_saver(spam_list, f'models/integrable_spam_L=50_bootstrap_seed{seed}.model')\n",
    "    model_saver(model_list, f'models/integrable_model_L=50_bootstrap_seed{seed}.model')"
   ]
  },
  {
   "cell_type": "markdown",
   "metadata": {},
   "source": []
  }
 ],
 "metadata": {
  "kernelspec": {
   "display_name": "env_phd",
   "language": "python",
   "name": "python3"
  },
  "language_info": {
   "codemirror_mode": {
    "name": "ipython",
    "version": 3
   },
   "file_extension": ".py",
   "mimetype": "text/x-python",
   "name": "python",
   "nbconvert_exporter": "python",
   "pygments_lexer": "ipython3",
   "version": "3.10.13"
  }
 },
 "nbformat": 4,
 "nbformat_minor": 4
}
