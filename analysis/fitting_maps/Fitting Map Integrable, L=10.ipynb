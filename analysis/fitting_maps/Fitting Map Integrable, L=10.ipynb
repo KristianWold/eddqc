{
 "cells": [
  {
   "attachments": {},
   "cell_type": "markdown",
   "metadata": {},
   "source": [
    "# Fitting"
   ]
  },
  {
   "cell_type": "code",
   "execution_count": null,
   "metadata": {},
   "outputs": [],
   "source": [
    "import sys\n",
    "sys.path.insert(0, '../../src/')\n",
    "\n",
    "import numpy as np\n",
    "import matplotlib.pyplot as plt\n",
    "import pickle as pkl\n",
    "import tensorflow as tf\n",
    "\n",
    "from qiskit.quantum_info import Operator\n",
    "from tqdm.notebook import tqdm\n",
    "\n",
    "from kraus_channels import KrausMap, isomery_to_kraus\n",
    "from loss_functions import ProbabilityMSE, ProbabilityRValue\n",
    "from optimization import ModelSPAM, ModelQuantumMap, Logger, model_saver\n",
    "from quantum_channel import channel_fidelity\n",
    "from experimental import counts_to_probs, generate_pauliInput_circuits, generate_pauli_circuits, marginalize_counts\n",
    "from spam import SPAM, InitialState, CorruptionMatrix\n",
    "from utils import saver\n",
    "from quantum_circuits import pqc_basic\n",
    "from spectrum import channel_spectrum, complex_spacing_ratio\n",
    "from quantum_circuits import integrable_circuit\n",
    "\n",
    "\n",
    "#np.set_printoptions(threshold=sys.maxsize)\n",
    "np.set_printoptions(precision=4)\n",
    "\n",
    "import os\n",
    "os.environ[\"CUDA_VISIBLE_DEVICES\"] = \"-1\"\n",
    "tf.compat.v1.logging.set_verbosity(tf.compat.v1.logging.ERROR)"
   ]
  },
  {
   "cell_type": "code",
   "execution_count": 6,
   "metadata": {},
   "outputs": [],
   "source": [
    "def integrable_circuit(n, L):\n",
    "    theta_list = [np.random.uniform(-np.pi, np.pi, n) for i in range(L)]\n",
    "    sqrt_iSWAP = iSwapGate().power(1 / 2)\n",
    "\n",
    "    circuit = qk.QuantumCircuit(n)\n",
    "    for i, theta in enumerate(theta_list):\n",
    "\n",
    "        offset = i%2\n",
    "        for j in range(n):\n",
    "            circuit.rz(theta[j], j)\n",
    "\n",
    "        for j in range((n - offset) // 2):\n",
    "            circuit.append(sqrt_iSWAP, [2 * j + offset, 2 * j + 1 + offset])\n",
    "\n",
    "\n",
    "    return circuit\n",
    "\n",
    "\n",
    "def nonintegrable_circuit(n, L):\n",
    "    theta_list = [np.random.uniform(-np.pi, np.pi, 2*n) for i in range(L)]\n",
    "    sqrt_iSWAP = iSwapGate().power(1 / 2)\n",
    "\n",
    "    circuit = qk.QuantumCircuit(n)\n",
    "    for i, theta in enumerate(theta_list):\n",
    "\n",
    "        offset = i%2\n",
    "        for j in range(n):\n",
    "            circuit.ry(theta[j], j)\n",
    "            circuit.rz(theta[j+n], j)\n",
    "\n",
    "        for j in range((n - offset) // 2):\n",
    "            circuit.append(sqrt_iSWAP, [2 * j + offset, 2 * j + 1 + offset])\n",
    "\n",
    "\n",
    "    return circuit"
   ]
  },
  {
   "cell_type": "code",
   "execution_count": 11,
   "metadata": {},
   "outputs": [],
   "source": [
    "def load_data(filename, n, seed, L):\n",
    "    with open(filename, 'rb') as f:\n",
    "        data = pkl.load(f)\n",
    "\n",
    "\n",
    "    data = marginalize_counts(data, 0)\n",
    "\n",
    "    targets = counts_to_probs(data)\n",
    "    targets_spam = targets[:6**n]\n",
    "    targets_map = targets[6**n:]\n",
    "\n",
    "    np.random.seed(seed)\n",
    "    \n",
    "    circuit_target = integrable_circuit(n+1, L)\n",
    "    unitary = Operator(circuit_target).data\n",
    "\n",
    "    inputs_spam, _ = generate_pauliInput_circuits(n)\n",
    "        \n",
    "    inputs_map, circuit_list_map = (\n",
    "                generate_pauli_circuits(n, None, N=5000-6**n)\n",
    "        )\n",
    "    \n",
    "    return inputs_spam, targets_spam, inputs_map, targets_map, unitary\n",
    "\n",
    "def fit_spam(inputs, \n",
    "             targets,\n",
    "             num_iter = 1000,\n",
    "             verbose = False):\n",
    "    d = targets.shape[1]\n",
    "    spam_model = SPAM(init = InitialState(d),\n",
    "                    povm = CorruptionMatrix(d),\n",
    "                    )\n",
    "\n",
    "    spam_opt = ModelSPAM(spam_model, tf.keras.optimizers.Adam(learning_rate=0.01))\n",
    "        \n",
    "    spam_opt.pretrain(100, verbose=False)\n",
    "\n",
    "    spam_opt.train(inputs = inputs,\n",
    "                    targets = targets,\n",
    "                    num_iter = num_iter,\n",
    "                    verbose = verbose,\n",
    "                )\n",
    "    \n",
    "    return spam_model\n",
    "    \n",
    "\n",
    "def fit_model(inputs, \n",
    "              targets, \n",
    "              spam_model,\n",
    "              num_iter = 1000,\n",
    "              verbose=False):\n",
    "    d = targets.shape[1]\n",
    "    model = ModelQuantumMap(channel = KrausMap(d = d, \n",
    "                                        rank = d**2,\n",
    "                                        spam = spam_model,\n",
    "                                        ),\n",
    "                    loss_function = ProbabilityMSE(),\n",
    "                    optimizer = tf.optimizers.Adam(learning_rate=0.01),\n",
    "                    logger = Logger(loss_function_list = [ProbabilityRValue()], sample_freq=100),\n",
    "                )\n",
    "\n",
    "    model.train(inputs = inputs,\n",
    "                targets = targets,\n",
    "                inputs_val = [inputs],\n",
    "                targets_val = [targets],\n",
    "                num_iter = num_iter,\n",
    "                N = 500,\n",
    "                verbose=verbose\n",
    "                )\n",
    "    \n",
    "    return model"
   ]
  },
  {
   "cell_type": "code",
   "execution_count": null,
   "metadata": {},
   "outputs": [
    {
     "data": {
      "application/vnd.jupyter.widget-view+json": {
       "model_id": "3940f166ebe6473f8f1b20d921b8926c",
       "version_major": 2,
       "version_minor": 0
      },
      "text/plain": [
       "  0%|          | 0/1 [00:00<?, ?it/s]"
      ]
     },
     "metadata": {},
     "output_type": "display_data"
    },
    {
     "name": "stdout",
     "output_type": "stream",
     "text": [
      "43\n"
     ]
    },
    {
     "data": {
      "application/vnd.jupyter.widget-view+json": {
       "model_id": "7e93e93703524f19b86eafe51944b12d",
       "version_major": 2,
       "version_minor": 0
      },
      "text/plain": [
       "  0%|          | 0/1000 [00:00<?, ?it/s]"
      ]
     },
     "metadata": {},
     "output_type": "display_data"
    },
    {
     "name": "stdout",
     "output_type": "stream",
     "text": [
      "0.07547598889666043 \n",
      "0.0036227812437261368 \n",
      "0.00017837985156437874 \n",
      "7.540714971109532e-05 \n",
      "7.4082413028364e-05 \n",
      "7.317879706849127e-05 \n",
      "7.250800761923568e-05 \n",
      "7.199874449480174e-05 \n",
      "7.161272904363952e-05 \n",
      "7.134468484672496e-05 \n"
     ]
    },
    {
     "data": {
      "application/vnd.jupyter.widget-view+json": {
       "model_id": "655ab665333f4b3a813c7b6485c6c314",
       "version_major": 2,
       "version_minor": 0
      },
      "text/plain": [
       "  0%|          | 0/1000 [00:00<?, ?it/s]"
      ]
     },
     "metadata": {},
     "output_type": "display_data"
    },
    {
     "name": "stdout",
     "output_type": "stream",
     "text": [
      "[0.0010737345912030793]\n",
      "[0.5835856663488728]\n",
      "[0.9147918937682042]\n",
      "[0.9794836597015406]\n",
      "[0.9918132217827754]\n",
      "[0.9954883594355474]\n",
      "[0.9967443321007059]\n",
      "[0.9972572366228032]\n",
      "[0.9975137352303175]\n",
      "[0.9976674483411654]\n",
      "[0.9977658910742685]\n"
     ]
    }
   ],
   "source": [
    "path = 'data/chaos_exp_reorder/5q/integrable_L=10/'\n",
    "n = 4\n",
    "d = 2**n\n",
    "L = 5\n",
    "\n",
    "spam_list = []\n",
    "model_list = []\n",
    "\n",
    "for i in tqdm(range(10)):\n",
    "    seed = 42 + i\n",
    "    print(seed)\n",
    "    inputs_spam, targets_spam, inputs_map, targets_map, unitary = load_data(path + f'seed_{seed}.pkl', n, seed, L)\n",
    "    spam_model = fit_spam(inputs_spam, targets_spam, verbose=True)\n",
    "    spam_list.append(spam_model) \n",
    "\n",
    "    tf.random.set_seed(50)\n",
    "    model = fit_model(inputs_map, \n",
    "                     targets_map, \n",
    "                     spam_model, \n",
    "                     verbose=True)\n",
    "    model_list.append(model)\n",
    "\n",
    "model_saver(spam_list, f'../models/integrable_spam_{n}_L=10.model')\n",
    "model_saver(model_list, f'../models/integrable_model_{n}_L=10.model')"
   ]
  }
 ],
 "metadata": {
  "kernelspec": {
   "display_name": "env_qiskit",
   "language": "python",
   "name": "python3"
  },
  "language_info": {
   "codemirror_mode": {
    "name": "ipython",
    "version": 3
   },
   "file_extension": ".py",
   "mimetype": "text/x-python",
   "name": "python",
   "nbconvert_exporter": "python",
   "pygments_lexer": "ipython3",
   "version": "3.10.4"
  }
 },
 "nbformat": 4,
 "nbformat_minor": 4
}
